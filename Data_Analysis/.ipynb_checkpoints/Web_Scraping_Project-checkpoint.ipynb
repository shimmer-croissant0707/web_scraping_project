{
 "cells": [
  {
   "cell_type": "code",
   "execution_count": 1,
   "metadata": {},
   "outputs": [],
   "source": [
    "# import numpy and pandas for data analysis\n",
    "import numpy as np\n",
    "import pandas as pd\n",
    "from scipy import stats\n",
    "from random import sample\n",
    "from sklearn.utils import resample\n",
    "import statistics"
   ]
  },
  {
   "cell_type": "code",
   "execution_count": 2,
   "metadata": {},
   "outputs": [],
   "source": [
    "# read data from all the csv files and add the category column for later groupby analysis\n",
    "pork = pd.read_csv('xiachufang_pork.csv')\n",
    "pork['category'] = 'pork'\n",
    "chicken = pd.read_csv('xiachufang_chicken.csv')\n",
    "chicken['category'] = 'chicken'\n",
    "beef = pd.read_csv('xiachufang_beef.csv')\n",
    "beef['category'] = 'beef'\n",
    "lamb = pd.read_csv('xiachufang_lamb.csv')\n",
    "lamb['category'] = 'lamb'\n",
    "duck = pd.read_csv('xiachufang_duck.csv')\n",
    "duck['category'] = 'duck'\n",
    "fish = pd.read_csv('xiachufang_fish.csv')\n",
    "fish['category'] = 'fish'\n",
    "shrimp = pd.read_csv('xiachufang_shrimp.csv')\n",
    "shrimp['category'] = 'shrimp'\n",
    "egg = pd.read_csv('xiachufang_egg.csv')\n",
    "egg['category'] = 'egg'\n",
    "tofu = pd.read_csv('xiachufang_tofu.csv')\n",
    "tofu['category'] = 'tofu'"
   ]
  },
  {
   "cell_type": "code",
   "execution_count": 3,
   "metadata": {},
   "outputs": [],
   "source": [
    "# initial cleaning of the dataset arranging indices/columns and drop duplicates and rows that contain nan\n",
    "all_recipes = pd.concat([pork,chicken,beef,lamb,duck,fish,shrimp,egg,tofu], axis = 0, sort = False)\n",
    "all_recipes = all_recipes.drop_duplicates()\n",
    "all_recipes = all_recipes.dropna(axis = 0, how = 'any')\n",
    "all_recipes = all_recipes.set_index('title')\n",
    "all_recipes = all_recipes[['ingredients','author','master','num_tried','rating','picture','exclusive', 'category']]"
   ]
  },
  {
   "cell_type": "code",
   "execution_count": 4,
   "metadata": {},
   "outputs": [],
   "source": [
    "# look at a sample of size 10\n",
    "sample10 = all_recipes.sample(10)"
   ]
  },
  {
   "cell_type": "code",
   "execution_count": 5,
   "metadata": {},
   "outputs": [],
   "source": [
    "# top 10 recipe\n",
    "top10 = all_recipes.sort_values('num_tried', ascending = False)[['num_tried', 'rating', 'category']].head(10)"
   ]
  },
  {
   "cell_type": "code",
   "execution_count": 6,
   "metadata": {},
   "outputs": [
    {
     "data": {
      "text/html": [
       "<div>\n",
       "<style scoped>\n",
       "    .dataframe tbody tr th:only-of-type {\n",
       "        vertical-align: middle;\n",
       "    }\n",
       "\n",
       "    .dataframe tbody tr th {\n",
       "        vertical-align: top;\n",
       "    }\n",
       "\n",
       "    .dataframe thead th {\n",
       "        text-align: right;\n",
       "    }\n",
       "</style>\n",
       "<table border=\"1\" class=\"dataframe\">\n",
       "  <thead>\n",
       "    <tr style=\"text-align: right;\">\n",
       "      <th></th>\n",
       "      <th>ingredients</th>\n",
       "      <th>author</th>\n",
       "      <th>master</th>\n",
       "      <th>num_tried</th>\n",
       "      <th>rating</th>\n",
       "      <th>picture</th>\n",
       "      <th>exclusive</th>\n",
       "      <th>category</th>\n",
       "    </tr>\n",
       "    <tr>\n",
       "      <th>title</th>\n",
       "      <th></th>\n",
       "      <th></th>\n",
       "      <th></th>\n",
       "      <th></th>\n",
       "      <th></th>\n",
       "      <th></th>\n",
       "      <th></th>\n",
       "      <th></th>\n",
       "    </tr>\n",
       "  </thead>\n",
       "  <tbody>\n",
       "    <tr>\n",
       "      <td>榨菜肉末蒸豆腐</td>\n",
       "      <td>榨菜,高汤,姜,葱</td>\n",
       "      <td>口口口口口口</td>\n",
       "      <td>False</td>\n",
       "      <td>928</td>\n",
       "      <td>8.0</td>\n",
       "      <td>True</td>\n",
       "      <td>False</td>\n",
       "      <td>pork</td>\n",
       "    </tr>\n",
       "    <tr>\n",
       "      <td>肉沫豆腐蛋羹</td>\n",
       "      <td>鸡蛋,嫩豆腐,肉沫,生姜,小葱,盐,酱油,料酒,白胡椒粉,蒸鱼豉油</td>\n",
       "      <td>宅与路上</td>\n",
       "      <td>True</td>\n",
       "      <td>926</td>\n",
       "      <td>8.2</td>\n",
       "      <td>True</td>\n",
       "      <td>False</td>\n",
       "      <td>pork</td>\n",
       "    </tr>\n",
       "    <tr>\n",
       "      <td>干煸榄菜肉末豆角</td>\n",
       "      <td>四季豆,橄榄菜,蒜,盐,油,糖</td>\n",
       "      <td>水十九</td>\n",
       "      <td>True</td>\n",
       "      <td>924</td>\n",
       "      <td>8.0</td>\n",
       "      <td>False</td>\n",
       "      <td>True</td>\n",
       "      <td>pork</td>\n",
       "    </tr>\n",
       "    <tr>\n",
       "      <td>肉馅辣椒-新手下厨 stuffed Chili pepper</td>\n",
       "      <td>辣椒,姜茸,酱油,香油,蒜</td>\n",
       "      <td>yanyanfoodtube</td>\n",
       "      <td>True</td>\n",
       "      <td>919</td>\n",
       "      <td>7.9</td>\n",
       "      <td>True</td>\n",
       "      <td>False</td>\n",
       "      <td>pork</td>\n",
       "    </tr>\n",
       "    <tr>\n",
       "      <td>酸豆角肉沫</td>\n",
       "      <td>酸豆角,肉沫,干辣椒,大蒜,生抽,红薯淀粉,菜籽油,盐</td>\n",
       "      <td>独品私房菜</td>\n",
       "      <td>False</td>\n",
       "      <td>891</td>\n",
       "      <td>8.3</td>\n",
       "      <td>True</td>\n",
       "      <td>False</td>\n",
       "      <td>pork</td>\n",
       "    </tr>\n",
       "    <tr>\n",
       "      <td>...</td>\n",
       "      <td>...</td>\n",
       "      <td>...</td>\n",
       "      <td>...</td>\n",
       "      <td>...</td>\n",
       "      <td>...</td>\n",
       "      <td>...</td>\n",
       "      <td>...</td>\n",
       "      <td>...</td>\n",
       "    </tr>\n",
       "    <tr>\n",
       "      <td>虾仁豆腐蒸水蛋</td>\n",
       "      <td>鸡蛋,清水,虾仁,香葱,蒸鱼豉油,盐,香油</td>\n",
       "      <td>E路拾缘</td>\n",
       "      <td>True</td>\n",
       "      <td>4335</td>\n",
       "      <td>8.3</td>\n",
       "      <td>False</td>\n",
       "      <td>True</td>\n",
       "      <td>tofu</td>\n",
       "    </tr>\n",
       "    <tr>\n",
       "      <td>蚝油嫩豆腐</td>\n",
       "      <td>豆腐,青蒜,蚝油,红烧酱油,水,鸡蛋,葱</td>\n",
       "      <td>奚姥姥</td>\n",
       "      <td>True</td>\n",
       "      <td>4148</td>\n",
       "      <td>8.3</td>\n",
       "      <td>True</td>\n",
       "      <td>False</td>\n",
       "      <td>tofu</td>\n",
       "    </tr>\n",
       "    <tr>\n",
       "      <td>鱼香豆腐</td>\n",
       "      <td>豆腐,木耳,胡萝卜,香葱,番茄酱</td>\n",
       "      <td>用沉默代替解脫</td>\n",
       "      <td>False</td>\n",
       "      <td>4294</td>\n",
       "      <td>7.3</td>\n",
       "      <td>False</td>\n",
       "      <td>False</td>\n",
       "      <td>tofu</td>\n",
       "    </tr>\n",
       "    <tr>\n",
       "      <td>豆腐鲫鱼汤</td>\n",
       "      <td>鲫鱼,豆腐,生姜,葱,油,盐,料酒</td>\n",
       "      <td>maximaxi</td>\n",
       "      <td>False</td>\n",
       "      <td>4077</td>\n",
       "      <td>8.0</td>\n",
       "      <td>False</td>\n",
       "      <td>False</td>\n",
       "      <td>tofu</td>\n",
       "    </tr>\n",
       "    <tr>\n",
       "      <td>龙利鱼豆腐煲</td>\n",
       "      <td>龙利鱼,番茄,杏鲍菇,金针菇,番茄酱</td>\n",
       "      <td>蒋三寻</td>\n",
       "      <td>True</td>\n",
       "      <td>3816</td>\n",
       "      <td>8.1</td>\n",
       "      <td>True</td>\n",
       "      <td>True</td>\n",
       "      <td>tofu</td>\n",
       "    </tr>\n",
       "  </tbody>\n",
       "</table>\n",
       "<p>3245 rows × 8 columns</p>\n",
       "</div>"
      ],
      "text/plain": [
       "                                                      ingredients  \\\n",
       "title                                                               \n",
       "榨菜肉末蒸豆腐                                                 榨菜,高汤,姜,葱   \n",
       "肉沫豆腐蛋羹                          鸡蛋,嫩豆腐,肉沫,生姜,小葱,盐,酱油,料酒,白胡椒粉,蒸鱼豉油   \n",
       "干煸榄菜肉末豆角                                          四季豆,橄榄菜,蒜,盐,油,糖   \n",
       "肉馅辣椒-新手下厨 stuffed Chili pepper                      辣椒,姜茸,酱油,香油,蒜   \n",
       "酸豆角肉沫                                 酸豆角,肉沫,干辣椒,大蒜,生抽,红薯淀粉,菜籽油,盐   \n",
       "...                                                           ...   \n",
       "虾仁豆腐蒸水蛋                                     鸡蛋,清水,虾仁,香葱,蒸鱼豉油,盐,香油   \n",
       "蚝油嫩豆腐                                        豆腐,青蒜,蚝油,红烧酱油,水,鸡蛋,葱   \n",
       "鱼香豆腐                                             豆腐,木耳,胡萝卜,香葱,番茄酱   \n",
       "豆腐鲫鱼汤                                           鲫鱼,豆腐,生姜,葱,油,盐,料酒   \n",
       "龙利鱼豆腐煲                                         龙利鱼,番茄,杏鲍菇,金针菇,番茄酱   \n",
       "\n",
       "                                        author  master  num_tried  rating  \\\n",
       "title                                                                       \n",
       "榨菜肉末蒸豆腐                                 口口口口口口   False        928     8.0   \n",
       "肉沫豆腐蛋羹                                    宅与路上    True        926     8.2   \n",
       "干煸榄菜肉末豆角                                   水十九    True        924     8.0   \n",
       "肉馅辣椒-新手下厨 stuffed Chili pepper  yanyanfoodtube    True        919     7.9   \n",
       "酸豆角肉沫                                    独品私房菜   False        891     8.3   \n",
       "...                                        ...     ...        ...     ...   \n",
       "虾仁豆腐蒸水蛋                                   E路拾缘    True       4335     8.3   \n",
       "蚝油嫩豆腐                                      奚姥姥    True       4148     8.3   \n",
       "鱼香豆腐                                   用沉默代替解脫   False       4294     7.3   \n",
       "豆腐鲫鱼汤                                 maximaxi   False       4077     8.0   \n",
       "龙利鱼豆腐煲                                     蒋三寻    True       3816     8.1   \n",
       "\n",
       "                                picture  exclusive category  \n",
       "title                                                        \n",
       "榨菜肉末蒸豆腐                            True      False     pork  \n",
       "肉沫豆腐蛋羹                             True      False     pork  \n",
       "干煸榄菜肉末豆角                          False       True     pork  \n",
       "肉馅辣椒-新手下厨 stuffed Chili pepper     True      False     pork  \n",
       "酸豆角肉沫                              True      False     pork  \n",
       "...                                 ...        ...      ...  \n",
       "虾仁豆腐蒸水蛋                           False       True     tofu  \n",
       "蚝油嫩豆腐                              True      False     tofu  \n",
       "鱼香豆腐                              False      False     tofu  \n",
       "豆腐鲫鱼汤                             False      False     tofu  \n",
       "龙利鱼豆腐煲                             True       True     tofu  \n",
       "\n",
       "[3245 rows x 8 columns]"
      ]
     },
     "execution_count": 6,
     "metadata": {},
     "output_type": "execute_result"
    }
   ],
   "source": [
    "all_recipes"
   ]
  },
  {
   "cell_type": "code",
   "execution_count": 7,
   "metadata": {},
   "outputs": [],
   "source": [
    "# removing outliers\n",
    "mean_ = np.mean(all_recipes.num_tried)\n",
    "sd_ = np.std(all_recipes.num_tried)\n",
    "up = mean_ + 3*sd_"
   ]
  },
  {
   "cell_type": "code",
   "execution_count": 8,
   "metadata": {},
   "outputs": [],
   "source": [
    "all_recipes1 = all_recipes[all_recipes.num_tried < up]"
   ]
  },
  {
   "cell_type": "code",
   "execution_count": 9,
   "metadata": {},
   "outputs": [
    {
     "data": {
      "text/plain": [
       "ingredients    0\n",
       "author         0\n",
       "master         0\n",
       "num_tried      0\n",
       "rating         0\n",
       "picture        0\n",
       "exclusive      0\n",
       "category       0\n",
       "dtype: int64"
      ]
     },
     "execution_count": 9,
     "metadata": {},
     "output_type": "execute_result"
    }
   ],
   "source": [
    "np.sum(all_recipes.isnull(), axis = 0)"
   ]
  },
  {
   "cell_type": "code",
   "execution_count": 10,
   "metadata": {},
   "outputs": [
    {
     "data": {
      "text/plain": [
       "ingredients    3068\n",
       "author         1611\n",
       "master            2\n",
       "num_tried      1227\n",
       "rating           34\n",
       "picture           2\n",
       "exclusive         2\n",
       "category          9\n",
       "dtype: int64"
      ]
     },
     "execution_count": 10,
     "metadata": {},
     "output_type": "execute_result"
    }
   ],
   "source": [
    "all_recipes.nunique()"
   ]
  },
  {
   "cell_type": "code",
   "execution_count": 11,
   "metadata": {},
   "outputs": [
    {
     "data": {
      "text/plain": [
       "ingredients     object\n",
       "author          object\n",
       "master            bool\n",
       "num_tried        int64\n",
       "rating         float64\n",
       "picture           bool\n",
       "exclusive         bool\n",
       "category        object\n",
       "dtype: object"
      ]
     },
     "execution_count": 11,
     "metadata": {},
     "output_type": "execute_result"
    }
   ],
   "source": [
    "all_recipes.dtypes"
   ]
  },
  {
   "cell_type": "code",
   "execution_count": 12,
   "metadata": {},
   "outputs": [
    {
     "data": {
      "text/html": [
       "<div>\n",
       "<style scoped>\n",
       "    .dataframe tbody tr th:only-of-type {\n",
       "        vertical-align: middle;\n",
       "    }\n",
       "\n",
       "    .dataframe tbody tr th {\n",
       "        vertical-align: top;\n",
       "    }\n",
       "\n",
       "    .dataframe thead th {\n",
       "        text-align: right;\n",
       "    }\n",
       "</style>\n",
       "<table border=\"1\" class=\"dataframe\">\n",
       "  <thead>\n",
       "    <tr style=\"text-align: right;\">\n",
       "      <th></th>\n",
       "      <th>num_tried</th>\n",
       "      <th>rating</th>\n",
       "    </tr>\n",
       "  </thead>\n",
       "  <tbody>\n",
       "    <tr>\n",
       "      <td>count</td>\n",
       "      <td>3245.000000</td>\n",
       "      <td>3245.000000</td>\n",
       "    </tr>\n",
       "    <tr>\n",
       "      <td>mean</td>\n",
       "      <td>844.676117</td>\n",
       "      <td>7.930231</td>\n",
       "    </tr>\n",
       "    <tr>\n",
       "      <td>std</td>\n",
       "      <td>2118.470560</td>\n",
       "      <td>0.448626</td>\n",
       "    </tr>\n",
       "    <tr>\n",
       "      <td>min</td>\n",
       "      <td>100.000000</td>\n",
       "      <td>6.200000</td>\n",
       "    </tr>\n",
       "    <tr>\n",
       "      <td>25%</td>\n",
       "      <td>175.000000</td>\n",
       "      <td>7.700000</td>\n",
       "    </tr>\n",
       "    <tr>\n",
       "      <td>50%</td>\n",
       "      <td>325.000000</td>\n",
       "      <td>7.900000</td>\n",
       "    </tr>\n",
       "    <tr>\n",
       "      <td>75%</td>\n",
       "      <td>717.000000</td>\n",
       "      <td>8.200000</td>\n",
       "    </tr>\n",
       "    <tr>\n",
       "      <td>max</td>\n",
       "      <td>68706.000000</td>\n",
       "      <td>9.500000</td>\n",
       "    </tr>\n",
       "  </tbody>\n",
       "</table>\n",
       "</div>"
      ],
      "text/plain": [
       "          num_tried       rating\n",
       "count   3245.000000  3245.000000\n",
       "mean     844.676117     7.930231\n",
       "std     2118.470560     0.448626\n",
       "min      100.000000     6.200000\n",
       "25%      175.000000     7.700000\n",
       "50%      325.000000     7.900000\n",
       "75%      717.000000     8.200000\n",
       "max    68706.000000     9.500000"
      ]
     },
     "execution_count": 12,
     "metadata": {},
     "output_type": "execute_result"
    }
   ],
   "source": [
    "all_recipes.describe()"
   ]
  },
  {
   "cell_type": "code",
   "execution_count": 13,
   "metadata": {},
   "outputs": [
    {
     "data": {
      "text/plain": [
       "909"
      ]
     },
     "execution_count": 13,
     "metadata": {},
     "output_type": "execute_result"
    }
   ],
   "source": [
    "ingred = []\n",
    "for i in range(len(all_recipes)):\n",
    "    ingred += all_recipes['ingredients'][i].split(',')\n",
    "ingred = set(ingred)\n",
    "len(ingred)"
   ]
  },
  {
   "cell_type": "code",
   "execution_count": 14,
   "metadata": {},
   "outputs": [],
   "source": [
    "# There are 928 ingredients and this needs to be organized since people sometimes refer to the same thing with \n",
    "# different names, so we write the following function to normalize it\n",
    "def normalize_ingredients(list_):\n",
    "    '''\n",
    "    Input: list of ingredients in Chinese\n",
    "    Output: list of ingredients, most in English and some in Chinese which avoids confusion caused by namings    \n",
    "    '''\n",
    "    for n, i in enumerate(list_):\n",
    "        if i in {'三奈','仔姜','姜','姜丝','姜块','姜末','姜汁','姜泥','姜片','姜碎', '姜粉', \\\n",
    "                 '姜花','姜茸', '姜蓉','姜黄粉', '嫩姜','山奈','干姜','鲜姜', '泡姜','老姜','良姜','生姜','沙姜'}:\n",
    "            list_[n] = 'ginger'\n",
    "        elif i in {'中筋面粉', '中筋粉', '中粉', '低筋粉', '低筋面粉', '低粉','全麦粉','小麦粉','高筋面粉','高粉'}:\n",
    "            list_[n] = 'flour'\n",
    "        elif i in {'乌鸡', '土鸡', '小鸡腿','鸡脯肉','鸡腿','鸡腿肉','鸡胸','鸡胸肉','鸡胸脯肉','鸡翅','鸡翅中','鸡翅根',\\\n",
    "                   '鸡翅膀','鸡肉','鸡','鸡中翅','鸡块','老母鸡','童子鸡','翅中','琵琶腿'}:\n",
    "            list_[n] = 'chicken'\n",
    "        elif i in {'五花肉','午餐肉', '叉烧肉','咸肉', '培根', '小排','排骨','里脊','里脊肉','肉馅','肉糜','肉','肉丝',\\\n",
    "                   '肉末','瘦猪肉','瘦肉','猪里脊','猪里脊肉','猪肋排','猪肉末','猪肉','猪绞肉','猪瘦肉','猪扒','猪排',\\\n",
    "                   '猪排骨','猪小排','猪五花','猪五花肉','腊肉','肋排','肉沫','香肠'}:\n",
    "            list_[n] = 'pork'\n",
    "        elif i in {'腊肠','肥肠','肉皮','肉蔻','肉蔻粉'}:\n",
    "            list_[n] = 'other pork products'\n",
    "        elif '猪' in i:\n",
    "            list_[n] = 'other pork products'\n",
    "        elif i in {'肥牛', '瘦牛肉','牛肉','牛肉末','牛腩','牛腩肉','牛腱','牛腱肉','牛里脊','牛里脊肉'}:\n",
    "            list_[n] = 'beef'\n",
    "        elif i in {'羊排','羊肉','羊肉汤','羊肉片','羊脊骨','羊腿'}:\n",
    "            list_[n] = 'lamb'\n",
    "        elif i in {'姜蒜','姜蒜片'}:\n",
    "            list_[n] = 'ginger'\n",
    "            list_.append('garlic')\n",
    "        elif i in {'葱蒜','葱蒜末'}:\n",
    "            list_[n] = 'scallion'\n",
    "            list_.append('garlic')\n",
    "        elif i == {'姜葱','葱姜','葱姜丝','葱姜末'}:\n",
    "            list_[n] = 'ginger'\n",
    "            list_.append('scallion')\n",
    "        elif i in {'姜葱蒜','葱姜蒜','葱姜蒜末'}:\n",
    "            list_[n] = 'ginger'\n",
    "            list_.extend(['scallion', 'garlic'])        \n",
    "        elif '葱' in i:\n",
    "            list_[n] = 'scallion'\n",
    "        elif i in {'全蛋', '土鸡蛋', '鹌鹑蛋','鸡蛋','鸡蛋清','鸡蛋黄','蛋黄','蛋黄液','蛋','蛋液','蛋清','蛋白'}:\n",
    "            list_[n] = 'egg'\n",
    "        elif i in {'千张','豆泡','豆渣','豆干', '豆腐干','豆腐皮','油豆皮','油豆腐','腐竹','香干'}:\n",
    "            list_[n] = 'tofu product'\n",
    "        elif '腐乳' in i:\n",
    "            list_[n] = 'tofu product'\n",
    "        elif '豆腐' in i:\n",
    "            list_[n] = 'tofu'\n",
    "        elif '水' in i or '凉白开' in i or '冰' in i:\n",
    "            list_[n] = 'water'\n",
    "        elif '菇' in i or '蘑' in i:\n",
    "            list_[n] = 'mushroom'\n",
    "        elif '糖' in i:\n",
    "            list_[n] = 'sugar'\n",
    "        elif '黑胡椒' in i or '黑椒碎' in i:\n",
    "            list_[n] = 'black pepper'\n",
    "        elif '白胡椒' in i:\n",
    "            list_[n] = 'white pepper'\n",
    "        elif '椒' in i:\n",
    "            list_[n] = 'hot peppers'\n",
    "        elif '龙虾' in i:\n",
    "            list_[n] = 'lobster'\n",
    "        elif '虾' in i:\n",
    "            list_[n] = 'shrimp'\n",
    "        elif i == '南乳':\n",
    "            list_[n] = '南乳汁'\n",
    "        elif '可乐' in i :\n",
    "            list_[n] = 'coke'\n",
    "        elif i in {'味啉', '味淋', '味醂', '味霖'}:\n",
    "            list_[n] = 'mirin'\n",
    "        elif '咖喱' in i or '咖哩' in i:\n",
    "            list_[n] = 'curry'\n",
    "        elif i in {'咸蛋', '咸蛋黄', '咸鸭蛋','松花蛋','笨鸡蛋','皮蛋'}:\n",
    "            list_[n] = 'other eggs'\n",
    "        elif i in {'土豆淀粉', '地瓜粉','干淀粉','干生粉','木薯淀粉','木薯粉', '淀粉','芡实','芡粉',\\\n",
    "                   '生粉','生粉水','玉米淀粉','玉米粉','湿淀粉','澄粉','泡打粉','水淀粉','水芡粉'}:\n",
    "            list_[n] = 'starch'\n",
    "        elif i in {'大土豆', '土豆', '地瓜','小土豆'} or '马铃' in i or '薯' in i:\n",
    "            list_[n] = 'potatoes'\n",
    "        elif i in {'大肠'}:\n",
    "            list_[n] = 'other pork product'\n",
    "        elif i in {'奶油', '奶油奶酪','奶油霜','鲜奶油'}:\n",
    "            list_[n] = 'cream'\n",
    "        elif '蒜' in i:\n",
    "            list_[n] = 'garlic'\n",
    "        elif i in {'孜然','孜然粉','孜然粒', '小茴香','丁香','当归','五香粉','党参','八瓣','八角','十三香','香料','迷迭香',\\\n",
    "                   '桂枝','桂皮','百里香','虫草花','茯苓','茴香','月桂叶','甘草','陈皮','牛至','肉桂','黄芪'}:\n",
    "            list_[n] = 'spice'\n",
    "        elif i in {'坚果','木耳','杏仁','杏仁露','杞子','松子','松茸','板栗','枸杞','枸杞子','核桃','核桃仁',\\\n",
    "                   '燕麦','燕麦片', '腰果','栗子','开心果','瓜子仁','百合','白果','银耳','薏仁'}:\n",
    "            list_[n] = 'dry products'\n",
    "        elif i in {'香菜','香菜末','薄荷叶','香草','香叶'}:\n",
    "            list_[n] = 'culinary herb'\n",
    "        elif '肉桂' in i:\n",
    "            list_[n] = 'spice'\n",
    "        elif '罗勒' in i:\n",
    "            list_[n] = 'culinary herb'\n",
    "        elif  i == '木耳':\n",
    "            list_[n] = 'dry products'\n",
    "        elif i in {'话梅','蜜枣','无花果','大枣','桂圆干','桂圆肉','枣','蔓越莓','葡萄干','蓝莓','红枣'}:\n",
    "            list_[n] = 'dried fruits'\n",
    "        elif i in {'山楂','山楂干','干山楂'}:\n",
    "            list_[n] = 'hawthorn'\n",
    "        elif i in {'包菜','卷心菜','大白菜','小白菜','圆白菜','娃娃菜','高丽菜'}:\n",
    "            list_[n] = 'cabbage'\n",
    "        elif '面' in i:\n",
    "            list_[n] = 'noodles'\n",
    "        elif '酒' in i:\n",
    "            list_[n] = 'alcohol'\n",
    "        elif '酱油' in i or '生抽' in i or '老抽' in i or '味极鲜' in i:\n",
    "            list_[n] = 'soy sauce'\n",
    "        elif i in {'鱼子','鱼籽','鱼露'}:\n",
    "            list_[n] = 'other fish product'\n",
    "        elif i in {'蒸鱼豉油'}:\n",
    "            list_[n] = 'special sauce for cooking seafood'\n",
    "        elif '鱼' in i:\n",
    "            list_[n] = 'fish'\n",
    "        elif i in {'鸭子', '鸭肉', '鸭翅','鸭腿','老鸭'}:\n",
    "            list_[n] = 'duck'\n",
    "        elif '鸭' in i:\n",
    "            list_[n] = 'other duck products'\n",
    "        elif '醋' in i:\n",
    "            list_[n] = 'vinegar'\n",
    "        elif '油' in i:\n",
    "            list_[n] = 'oil'\n",
    "        elif '面包' in i:\n",
    "            list_[n] = 'bread'\n",
    "        elif i in {'粉丝','粉条','粉皮','粘米粉','河粉'}:\n",
    "            list_[n] = 'other noodles'\n",
    "        elif '饭' in i:\n",
    "            list_[n] = 'rice'\n",
    "        elif '米' in i:\n",
    "            list_[n] = 'rice'\n",
    "        elif '牛' in i:\n",
    "            list_[n] = 'other beef products'\n",
    "        elif '羊' in i:\n",
    "            list_[n] = 'other lamb products'\n",
    "        elif '笋' in i:\n",
    "            list_[n] = 'bamboo shoots'\n",
    "        elif '味增' in i or '味噌' in i:\n",
    "            list_[n] = 'miso'\n",
    "        elif '番茄' in i or '西红柿' in i or '圣女果' in i or '蕃茄' in i:\n",
    "            list_[n] = 'tomatoes or tomato products'\n",
    "        elif '螺' in i:\n",
    "            list_[n] = 'shell'\n",
    "        elif '玉米' in i:\n",
    "            list_[n] = 'corn'\n",
    "        elif '火腿' in i:\n",
    "            list_[n] = 'pork'\n",
    "        elif '盐' in i or i == '鹽':\n",
    "            list_[n] = 'salt'\n",
    "        elif '木耳' in i:\n",
    "            list_[n] = '木耳'\n",
    "        elif '奶' in i or i == '炼乳':\n",
    "            list_[n] = 'milk related products'\n",
    "        elif '豆瓣' in i:\n",
    "            list_[n] = 'bean sauce'\n",
    "        elif '蟹' in i:\n",
    "            list_[n] = 'crabs'\n",
    "        elif '玉米' in i:\n",
    "            list_[n] = 'corn'\n",
    "        elif '酱' in i or i in {'调味料','调料','红曲粉','红烧汁','奥尔良腌料','嫩肉粉','抹茶粉','排骨汤','浓汤宝','清汤',\\\n",
    "                               '火锅底料','老干妈','高汤','醪糟','大料'}:\n",
    "            list_[n] = 'other special cooking sauce'\n",
    "        elif '味精' in i or '鸡精' in i:\n",
    "            list_[n] = 'MSG'\n",
    "        elif '豆芽' in i:\n",
    "            list_[n] = 'bean sprouts'\n",
    "        elif '芝士' in i:\n",
    "            list_[n] = 'cheese'\n",
    "        elif '胡萝卜' in i:\n",
    "            list_[n] = 'carrots'\n",
    "        elif i in {'可可粉'} or '巧克力' in i:\n",
    "            list_[n] = 'chocolate'\n",
    "        elif '黄瓜' in i:\n",
    "            list_[n] = 'cucumber'\n",
    "        elif '年糕' in i:\n",
    "            list_[n] = 'ricecake'\n",
    "        elif i in {'料洒','花雕'}:\n",
    "            list_[n] = 'alcohol'\n",
    "        elif i in {'生菜叶'}:\n",
    "            list_[n] = '生菜'\n",
    "        elif i in {'白菜叶'}:\n",
    "            list_[n] = '白菜'\n",
    "        elif '花生' in i:\n",
    "            list_[n] = 'peanuts'\n",
    "        elif '芝麻' in i:\n",
    "            list_[n] = 'sesame'\n",
    "        elif '苏打' in i or '碱' in i:\n",
    "            list_[n] = 'soda'\n",
    "        elif '柠' in i:\n",
    "            list_[n] = 'lemon or lime'\n",
    "        elif '韭' in i:\n",
    "            list_[n] = '韭菜'\n",
    "        elif '芹' in i:\n",
    "            list_[n] = 'celery'\n",
    "        elif '酵母' in i:\n",
    "            list_[n] = 'yeast'\n",
    "        elif i in {'咸菜', '梅干菜','酸菜','酸豆角','酸豇豆','辣白菜','腌菜','泡菜','榄菜','榨菜', '橄榄菜'}:\n",
    "            list_[n] = '腌菜'\n",
    "        elif '豆' in i:\n",
    "            list_[n] = 'beans'\n",
    "        elif i in {'莲子','莲藕','藕'}:\n",
    "            list_[n] = 'lotus'\n",
    "        elif '甘蓝' in i:\n",
    "            list_[n] = '甘蓝'\n",
    "        elif '萝卜' in i:\n",
    "            list_[n] = '萝卜'\n",
    "        elif '南瓜' in i:\n",
    "            list_[n] = '南瓜'\n",
    "        elif '干贝' in i:\n",
    "            list_[n] = '干贝'\n",
    "        elif i in {'花椰菜'}:\n",
    "            list_[n] = '花菜'\n",
    "        elif i in {'西蓝花'}:\n",
    "            list_[n] = '西兰花'\n",
    "        elif i in {'马兰'}:\n",
    "            list_[n] = '马兰头'\n",
    "        elif i in {'芋头','芋艿'}:\n",
    "            list_[n] = '芋艿'\n",
    "        elif '鸡' in i or i in {'凤爪'}:\n",
    "            list_[n] = 'other chicken products'\n",
    "    return list_"
   ]
  },
  {
   "cell_type": "code",
   "execution_count": 15,
   "metadata": {},
   "outputs": [],
   "source": [
    "# calling the above written method to normalize ingredients\n",
    "all_recipes['ingredients'] = list(map(lambda s: normalize_ingredients(s.split(',')), all_recipes['ingredients']))"
   ]
  },
  {
   "cell_type": "code",
   "execution_count": 16,
   "metadata": {},
   "outputs": [
    {
     "data": {
      "text/plain": [
       "159"
      ]
     },
     "execution_count": 16,
     "metadata": {},
     "output_type": "execute_result"
    }
   ],
   "source": [
    "# with the function call, we reduce the number of ingredients to 159\n",
    "ingred_list = []\n",
    "for i in range(len(all_recipes['ingredients'])):\n",
    "    ingred_list.extend(all_recipes['ingredients'][i])\n",
    "ingred_list = set(ingred_list)\n",
    "len(ingred_list)"
   ]
  },
  {
   "cell_type": "code",
   "execution_count": 17,
   "metadata": {},
   "outputs": [],
   "source": [
    "# calculate how many ingredients are needed for each recipe\n",
    "all_recipes['num_ingred'] = all_recipes['ingredients'].apply(lambda list_: len(list_))\n",
    "all_recipes = all_recipes[['ingredients','num_ingred','author','master','num_tried','rating','picture','exclusive','category']]"
   ]
  },
  {
   "cell_type": "code",
   "execution_count": 18,
   "metadata": {},
   "outputs": [
    {
     "data": {
      "text/html": [
       "<div>\n",
       "<style scoped>\n",
       "    .dataframe tbody tr th:only-of-type {\n",
       "        vertical-align: middle;\n",
       "    }\n",
       "\n",
       "    .dataframe tbody tr th {\n",
       "        vertical-align: top;\n",
       "    }\n",
       "\n",
       "    .dataframe thead th {\n",
       "        text-align: right;\n",
       "    }\n",
       "</style>\n",
       "<table border=\"1\" class=\"dataframe\">\n",
       "  <thead>\n",
       "    <tr style=\"text-align: right;\">\n",
       "      <th></th>\n",
       "      <th>num_ingred</th>\n",
       "      <th>num_tried</th>\n",
       "      <th>rating</th>\n",
       "    </tr>\n",
       "  </thead>\n",
       "  <tbody>\n",
       "    <tr>\n",
       "      <td>count</td>\n",
       "      <td>3245.000000</td>\n",
       "      <td>3245.000000</td>\n",
       "      <td>3245.000000</td>\n",
       "    </tr>\n",
       "    <tr>\n",
       "      <td>mean</td>\n",
       "      <td>7.312789</td>\n",
       "      <td>844.676117</td>\n",
       "      <td>7.930231</td>\n",
       "    </tr>\n",
       "    <tr>\n",
       "      <td>std</td>\n",
       "      <td>3.470748</td>\n",
       "      <td>2118.470560</td>\n",
       "      <td>0.448626</td>\n",
       "    </tr>\n",
       "    <tr>\n",
       "      <td>min</td>\n",
       "      <td>1.000000</td>\n",
       "      <td>100.000000</td>\n",
       "      <td>6.200000</td>\n",
       "    </tr>\n",
       "    <tr>\n",
       "      <td>25%</td>\n",
       "      <td>5.000000</td>\n",
       "      <td>175.000000</td>\n",
       "      <td>7.700000</td>\n",
       "    </tr>\n",
       "    <tr>\n",
       "      <td>50%</td>\n",
       "      <td>7.000000</td>\n",
       "      <td>325.000000</td>\n",
       "      <td>7.900000</td>\n",
       "    </tr>\n",
       "    <tr>\n",
       "      <td>75%</td>\n",
       "      <td>9.000000</td>\n",
       "      <td>717.000000</td>\n",
       "      <td>8.200000</td>\n",
       "    </tr>\n",
       "    <tr>\n",
       "      <td>max</td>\n",
       "      <td>26.000000</td>\n",
       "      <td>68706.000000</td>\n",
       "      <td>9.500000</td>\n",
       "    </tr>\n",
       "  </tbody>\n",
       "</table>\n",
       "</div>"
      ],
      "text/plain": [
       "        num_ingred     num_tried       rating\n",
       "count  3245.000000   3245.000000  3245.000000\n",
       "mean      7.312789    844.676117     7.930231\n",
       "std       3.470748   2118.470560     0.448626\n",
       "min       1.000000    100.000000     6.200000\n",
       "25%       5.000000    175.000000     7.700000\n",
       "50%       7.000000    325.000000     7.900000\n",
       "75%       9.000000    717.000000     8.200000\n",
       "max      26.000000  68706.000000     9.500000"
      ]
     },
     "execution_count": 18,
     "metadata": {},
     "output_type": "execute_result"
    }
   ],
   "source": [
    "all_recipes.describe()"
   ]
  },
  {
   "cell_type": "markdown",
   "metadata": {},
   "source": [
    "### Study of the relationships between num_tried, rating, picture and exclusive\n",
    "    1. What is the relationship between num_tried and rating?\n",
    "    2. What is the relationship between exclusive and num_tried/rating?\n",
    "    3. What is the relationship between picture and num_tried/rating?\n",
    "    "
   ]
  },
  {
   "cell_type": "code",
   "execution_count": 19,
   "metadata": {},
   "outputs": [],
   "source": [
    "%matplotlib inline"
   ]
  },
  {
   "cell_type": "code",
   "execution_count": 20,
   "metadata": {},
   "outputs": [],
   "source": [
    "from matplotlib import pyplot as plt\n",
    "plt.style.use('ggplot')\n",
    "import seaborn as sns"
   ]
  },
  {
   "cell_type": "code",
   "execution_count": 21,
   "metadata": {},
   "outputs": [
    {
     "data": {
      "text/plain": [
       "Text(0.5, 1.0, 'ratings VS. number of attempts')"
      ]
     },
     "execution_count": 21,
     "metadata": {},
     "output_type": "execute_result"
    },
    {
     "data": {
      "image/png": "[encoded data removed]",
      "text/plain": [
       "<Figure size 432x288 with 1 Axes>"
      ]
     },
     "metadata": {},
     "output_type": "display_data"
    }
   ],
   "source": [
    "plt.scatter(all_recipes1['num_tried'], all_recipes1['rating'])\n",
    "plt.xlabel(\"number of attempts\")\n",
    "plt.ylabel(\"ratings\")\n",
    "plt.title(\"ratings VS. number of attempts\")"
   ]
  },
  {
   "cell_type": "code",
   "execution_count": 22,
   "metadata": {},
   "outputs": [
    {
     "data": {
      "text/plain": [
       "Text(0, 0.5, 'count')"
      ]
     },
     "execution_count": 22,
     "metadata": {},
     "output_type": "execute_result"
    },
    {
     "data": {
      "image/png": "[encoded data removed]",
      "text/plain": [
       "<Figure size 432x288 with 1 Axes>"
      ]
     },
     "metadata": {},
     "output_type": "display_data"
    }
   ],
   "source": [
    "plt.hist(all_recipes['rating'])\n",
    "plt.title('histogram of ratings')\n",
    "plt.xlabel('ratings')\n",
    "plt.ylabel('count')"
   ]
  },
  {
   "cell_type": "markdown",
   "metadata": {},
   "source": [
    "## Study of Different Groups Using Groupby\n",
    "#### Groupby Study Master Cooks\n",
    "In this part, we analyze the data within two groups. (master cook group and others)"
   ]
  },
  {
   "cell_type": "code",
   "execution_count": 23,
   "metadata": {},
   "outputs": [
    {
     "name": "stdout",
     "output_type": "stream",
     "text": [
      "The percentage of master cooks is 0.18.\n"
     ]
    }
   ],
   "source": [
    "# master chefs\n",
    "authors = all_recipes[['author', 'master']]\n",
    "authors = authors.drop_duplicates()\n",
    "master_ratio = sum(authors['master'])/len(authors)\n",
    "print('The percentage of master cooks is %.2f'%master_ratio + '.')"
   ]
  },
  {
   "cell_type": "code",
   "execution_count": 24,
   "metadata": {},
   "outputs": [
    {
     "name": "stdout",
     "output_type": "stream",
     "text": [
      "The percentage of recipes prepared by master cooks is 0.37.\n"
     ]
    }
   ],
   "source": [
    "master_recipe = sum(all_recipes['master'])/len(all_recipes)\n",
    "print('The percentage of recipes prepared by master cooks is %.2f'%master_recipe + '.')"
   ]
  },
  {
   "cell_type": "code",
   "execution_count": 25,
   "metadata": {
    "scrolled": true
   },
   "outputs": [
    {
     "data": {
      "text/html": [
       "<div>\n",
       "<style scoped>\n",
       "    .dataframe tbody tr th:only-of-type {\n",
       "        vertical-align: middle;\n",
       "    }\n",
       "\n",
       "    .dataframe tbody tr th {\n",
       "        vertical-align: top;\n",
       "    }\n",
       "\n",
       "    .dataframe thead tr th {\n",
       "        text-align: left;\n",
       "    }\n",
       "\n",
       "    .dataframe thead tr:last-of-type th {\n",
       "        text-align: right;\n",
       "    }\n",
       "</style>\n",
       "<table border=\"1\" class=\"dataframe\">\n",
       "  <thead>\n",
       "    <tr>\n",
       "      <th></th>\n",
       "      <th colspan=\"5\" halign=\"left\">num_tried</th>\n",
       "      <th colspan=\"5\" halign=\"left\">rating</th>\n",
       "      <th colspan=\"5\" halign=\"left\">num_ingred</th>\n",
       "    </tr>\n",
       "    <tr>\n",
       "      <th></th>\n",
       "      <th>count</th>\n",
       "      <th>mean</th>\n",
       "      <th>min</th>\n",
       "      <th>max</th>\n",
       "      <th>std</th>\n",
       "      <th>count</th>\n",
       "      <th>min</th>\n",
       "      <th>max</th>\n",
       "      <th>mean</th>\n",
       "      <th>std</th>\n",
       "      <th>count</th>\n",
       "      <th>min</th>\n",
       "      <th>max</th>\n",
       "      <th>mean</th>\n",
       "      <th>std</th>\n",
       "    </tr>\n",
       "    <tr>\n",
       "      <th>master</th>\n",
       "      <th></th>\n",
       "      <th></th>\n",
       "      <th></th>\n",
       "      <th></th>\n",
       "      <th></th>\n",
       "      <th></th>\n",
       "      <th></th>\n",
       "      <th></th>\n",
       "      <th></th>\n",
       "      <th></th>\n",
       "      <th></th>\n",
       "      <th></th>\n",
       "      <th></th>\n",
       "      <th></th>\n",
       "      <th></th>\n",
       "    </tr>\n",
       "  </thead>\n",
       "  <tbody>\n",
       "    <tr>\n",
       "      <td>False</td>\n",
       "      <td>2030</td>\n",
       "      <td>776.018719</td>\n",
       "      <td>100</td>\n",
       "      <td>36799</td>\n",
       "      <td>1768.740682</td>\n",
       "      <td>2030</td>\n",
       "      <td>6.2</td>\n",
       "      <td>9.4</td>\n",
       "      <td>7.861034</td>\n",
       "      <td>0.428511</td>\n",
       "      <td>2030</td>\n",
       "      <td>1</td>\n",
       "      <td>23</td>\n",
       "      <td>7.189655</td>\n",
       "      <td>3.451272</td>\n",
       "    </tr>\n",
       "    <tr>\n",
       "      <td>True</td>\n",
       "      <td>1215</td>\n",
       "      <td>959.387654</td>\n",
       "      <td>100</td>\n",
       "      <td>68706</td>\n",
       "      <td>2596.670564</td>\n",
       "      <td>1215</td>\n",
       "      <td>6.3</td>\n",
       "      <td>9.5</td>\n",
       "      <td>8.045844</td>\n",
       "      <td>0.457751</td>\n",
       "      <td>1215</td>\n",
       "      <td>1</td>\n",
       "      <td>26</td>\n",
       "      <td>7.518519</td>\n",
       "      <td>3.494799</td>\n",
       "    </tr>\n",
       "  </tbody>\n",
       "</table>\n",
       "</div>"
      ],
      "text/plain": [
       "       num_tried                                      rating            \\\n",
       "           count        mean  min    max          std  count  min  max   \n",
       "master                                                                   \n",
       "False       2030  776.018719  100  36799  1768.740682   2030  6.2  9.4   \n",
       "True        1215  959.387654  100  68706  2596.670564   1215  6.3  9.5   \n",
       "\n",
       "                           num_ingred                              \n",
       "            mean       std      count min max      mean       std  \n",
       "master                                                             \n",
       "False   7.861034  0.428511       2030   1  23  7.189655  3.451272  \n",
       "True    8.045844  0.457751       1215   1  26  7.518519  3.494799  "
      ]
     },
     "execution_count": 25,
     "metadata": {},
     "output_type": "execute_result"
    }
   ],
   "source": [
    "ifMaster = all_recipes.groupby(['master'])\n",
    "colFun = {'num_tried':['count','mean','min','max','std'],\n",
    "          'rating':['count','min','max','mean','std'],\n",
    "          'num_ingred':['count','min', 'max', 'mean', 'std']}\n",
    "ifMaster.agg(colFun)"
   ]
  },
  {
   "cell_type": "code",
   "execution_count": 26,
   "metadata": {},
   "outputs": [
    {
     "data": {
      "text/html": [
       "<div>\n",
       "<style scoped>\n",
       "    .dataframe tbody tr th:only-of-type {\n",
       "        vertical-align: middle;\n",
       "    }\n",
       "\n",
       "    .dataframe tbody tr th {\n",
       "        vertical-align: top;\n",
       "    }\n",
       "\n",
       "    .dataframe thead tr th {\n",
       "        text-align: left;\n",
       "    }\n",
       "\n",
       "    .dataframe thead tr:last-of-type th {\n",
       "        text-align: right;\n",
       "    }\n",
       "</style>\n",
       "<table border=\"1\" class=\"dataframe\">\n",
       "  <thead>\n",
       "    <tr>\n",
       "      <th></th>\n",
       "      <th colspan=\"5\" halign=\"left\">num_tried</th>\n",
       "    </tr>\n",
       "    <tr>\n",
       "      <th></th>\n",
       "      <th>count</th>\n",
       "      <th>mean</th>\n",
       "      <th>min</th>\n",
       "      <th>max</th>\n",
       "      <th>std</th>\n",
       "    </tr>\n",
       "    <tr>\n",
       "      <th>master</th>\n",
       "      <th></th>\n",
       "      <th></th>\n",
       "      <th></th>\n",
       "      <th></th>\n",
       "      <th></th>\n",
       "    </tr>\n",
       "  </thead>\n",
       "  <tbody>\n",
       "    <tr>\n",
       "      <td>False</td>\n",
       "      <td>2012</td>\n",
       "      <td>651.103877</td>\n",
       "      <td>100</td>\n",
       "      <td>7083</td>\n",
       "      <td>970.691818</td>\n",
       "    </tr>\n",
       "    <tr>\n",
       "      <td>True</td>\n",
       "      <td>1197</td>\n",
       "      <td>753.713450</td>\n",
       "      <td>100</td>\n",
       "      <td>7009</td>\n",
       "      <td>1054.298570</td>\n",
       "    </tr>\n",
       "  </tbody>\n",
       "</table>\n",
       "</div>"
      ],
      "text/plain": [
       "       num_tried                                    \n",
       "           count        mean  min   max          std\n",
       "master                                              \n",
       "False       2012  651.103877  100  7083   970.691818\n",
       "True        1197  753.713450  100  7009  1054.298570"
      ]
     },
     "execution_count": 26,
     "metadata": {},
     "output_type": "execute_result"
    }
   ],
   "source": [
    "ifMaster1 = all_recipes1.groupby(['master'])\n",
    "colFun = {'num_tried':['count','mean','min','max','std']}\n",
    "ifMaster1.agg(colFun)"
   ]
  },
  {
   "cell_type": "code",
   "execution_count": 27,
   "metadata": {},
   "outputs": [
    {
     "data": {
      "image/png": "[encoded data removed]",
      "text/plain": [
       "<Figure size 432x288 with 1 Axes>"
      ]
     },
     "metadata": {},
     "output_type": "display_data"
    }
   ],
   "source": [
    "ax = sns.boxplot(x = 'master', y = 'rating', data = all_recipes, order = [False, True])\n",
    "ax.set(xlabel='master cook', ylabel='ratings', title = 'master cook and ratings')\n",
    "plt.show()"
   ]
  },
  {
   "cell_type": "markdown",
   "metadata": {},
   "source": [
    "We now perform the statistical test."
   ]
  },
  {
   "cell_type": "code",
   "execution_count": 28,
   "metadata": {},
   "outputs": [
    {
     "data": {
      "text/plain": [
       "Ttest_indResult(statistic=3.980896660725232, pvalue=6.998118251865384e-05)"
      ]
     },
     "execution_count": 28,
     "metadata": {},
     "output_type": "execute_result"
    }
   ],
   "source": [
    "ifMaster_True = ifMaster.get_group(True)\n",
    "ifMaster_False = ifMaster.get_group(False)\n",
    "tlist = ifMaster_True['num_tried'].tolist()\n",
    "flist = ifMaster_False['num_tried'].tolist()\n",
    "tlist1 = resample(tlist, n_samples = len(flist), replace = True)\n",
    "stats.ttest_ind(tlist1, flist, equal_var = False)"
   ]
  },
  {
   "cell_type": "code",
   "execution_count": 29,
   "metadata": {},
   "outputs": [
    {
     "data": {
      "text/plain": [
       "Ttest_indResult(statistic=12.226007214588417, pvalue=8.810388281606471e-34)"
      ]
     },
     "execution_count": 29,
     "metadata": {},
     "output_type": "execute_result"
    }
   ],
   "source": [
    "ifMaster_True = ifMaster.get_group(True)\n",
    "ifMaster_False = ifMaster.get_group(False)\n",
    "tlist = ifMaster_True['rating'].tolist()\n",
    "flist = ifMaster_False['rating'].tolist()\n",
    "tlist1 = resample(tlist, n_samples = len(flist), replace = True)\n",
    "stats.ttest_ind(tlist1, flist, equal_var = True)"
   ]
  },
  {
   "cell_type": "markdown",
   "metadata": {},
   "source": [
    "By comparison, more people tried the recipes created by master cooks. The ratings are also higher for the recipes created by master cooks though not much different and this is the same for number of ingredients."
   ]
  },
  {
   "cell_type": "code",
   "execution_count": 30,
   "metadata": {},
   "outputs": [
    {
     "data": {
      "text/html": [
       "<div>\n",
       "<style scoped>\n",
       "    .dataframe tbody tr th:only-of-type {\n",
       "        vertical-align: middle;\n",
       "    }\n",
       "\n",
       "    .dataframe tbody tr th {\n",
       "        vertical-align: top;\n",
       "    }\n",
       "\n",
       "    .dataframe thead tr th {\n",
       "        text-align: left;\n",
       "    }\n",
       "\n",
       "    .dataframe thead tr:last-of-type th {\n",
       "        text-align: right;\n",
       "    }\n",
       "</style>\n",
       "<table border=\"1\" class=\"dataframe\">\n",
       "  <thead>\n",
       "    <tr>\n",
       "      <th></th>\n",
       "      <th colspan=\"2\" halign=\"left\">exclusive</th>\n",
       "      <th colspan=\"2\" halign=\"left\">picture</th>\n",
       "    </tr>\n",
       "    <tr>\n",
       "      <th></th>\n",
       "      <th>count</th>\n",
       "      <th>mean</th>\n",
       "      <th>count</th>\n",
       "      <th>mean</th>\n",
       "    </tr>\n",
       "    <tr>\n",
       "      <th>master</th>\n",
       "      <th></th>\n",
       "      <th></th>\n",
       "      <th></th>\n",
       "      <th></th>\n",
       "    </tr>\n",
       "  </thead>\n",
       "  <tbody>\n",
       "    <tr>\n",
       "      <td>False</td>\n",
       "      <td>2030</td>\n",
       "      <td>0.212315</td>\n",
       "      <td>2030</td>\n",
       "      <td>0.660591</td>\n",
       "    </tr>\n",
       "    <tr>\n",
       "      <td>True</td>\n",
       "      <td>1215</td>\n",
       "      <td>0.468313</td>\n",
       "      <td>1215</td>\n",
       "      <td>0.758848</td>\n",
       "    </tr>\n",
       "  </tbody>\n",
       "</table>\n",
       "</div>"
      ],
      "text/plain": [
       "       exclusive           picture          \n",
       "           count      mean   count      mean\n",
       "master                                      \n",
       "False       2030  0.212315    2030  0.660591\n",
       "True        1215  0.468313    1215  0.758848"
      ]
     },
     "execution_count": 30,
     "metadata": {},
     "output_type": "execute_result"
    }
   ],
   "source": [
    "ifMaster.agg(['count', 'mean'])[['exclusive', 'picture']]"
   ]
  },
  {
   "cell_type": "markdown",
   "metadata": {},
   "source": [
    "By comparison, the recipes created by master cooks has higher chance to be exclusive. Also, more recipes that are created by master cooks have picture descriptions."
   ]
  },
  {
   "cell_type": "markdown",
   "metadata": {},
   "source": [
    "#### Groupby Study Exclusive\n",
    "In this part, we analyze the recipes that are divided with respect to whether the recipe is exclusive to the website."
   ]
  },
  {
   "cell_type": "code",
   "execution_count": 31,
   "metadata": {},
   "outputs": [],
   "source": [
    "ifExclusive = all_recipes.groupby(['exclusive'])"
   ]
  },
  {
   "cell_type": "code",
   "execution_count": 32,
   "metadata": {},
   "outputs": [
    {
     "data": {
      "text/html": [
       "<div>\n",
       "<style scoped>\n",
       "    .dataframe tbody tr th:only-of-type {\n",
       "        vertical-align: middle;\n",
       "    }\n",
       "\n",
       "    .dataframe tbody tr th {\n",
       "        vertical-align: top;\n",
       "    }\n",
       "\n",
       "    .dataframe thead tr th {\n",
       "        text-align: left;\n",
       "    }\n",
       "\n",
       "    .dataframe thead tr:last-of-type th {\n",
       "        text-align: right;\n",
       "    }\n",
       "</style>\n",
       "<table border=\"1\" class=\"dataframe\">\n",
       "  <thead>\n",
       "    <tr>\n",
       "      <th></th>\n",
       "      <th colspan=\"4\" halign=\"left\">num_tried</th>\n",
       "      <th colspan=\"5\" halign=\"left\">rating</th>\n",
       "      <th colspan=\"5\" halign=\"left\">num_ingred</th>\n",
       "    </tr>\n",
       "    <tr>\n",
       "      <th></th>\n",
       "      <th>count</th>\n",
       "      <th>mean</th>\n",
       "      <th>min</th>\n",
       "      <th>max</th>\n",
       "      <th>count</th>\n",
       "      <th>min</th>\n",
       "      <th>max</th>\n",
       "      <th>mean</th>\n",
       "      <th>std</th>\n",
       "      <th>count</th>\n",
       "      <th>min</th>\n",
       "      <th>max</th>\n",
       "      <th>mean</th>\n",
       "      <th>std</th>\n",
       "    </tr>\n",
       "    <tr>\n",
       "      <th>exclusive</th>\n",
       "      <th></th>\n",
       "      <th></th>\n",
       "      <th></th>\n",
       "      <th></th>\n",
       "      <th></th>\n",
       "      <th></th>\n",
       "      <th></th>\n",
       "      <th></th>\n",
       "      <th></th>\n",
       "      <th></th>\n",
       "      <th></th>\n",
       "      <th></th>\n",
       "      <th></th>\n",
       "      <th></th>\n",
       "    </tr>\n",
       "  </thead>\n",
       "  <tbody>\n",
       "    <tr>\n",
       "      <td>False</td>\n",
       "      <td>2245</td>\n",
       "      <td>786.531849</td>\n",
       "      <td>100</td>\n",
       "      <td>24704</td>\n",
       "      <td>2245</td>\n",
       "      <td>6.2</td>\n",
       "      <td>9.5</td>\n",
       "      <td>7.890646</td>\n",
       "      <td>0.444587</td>\n",
       "      <td>2245</td>\n",
       "      <td>1</td>\n",
       "      <td>26</td>\n",
       "      <td>7.195546</td>\n",
       "      <td>3.403833</td>\n",
       "    </tr>\n",
       "    <tr>\n",
       "      <td>True</td>\n",
       "      <td>1000</td>\n",
       "      <td>975.210000</td>\n",
       "      <td>100</td>\n",
       "      <td>68706</td>\n",
       "      <td>1000</td>\n",
       "      <td>6.5</td>\n",
       "      <td>9.4</td>\n",
       "      <td>8.019100</td>\n",
       "      <td>0.445133</td>\n",
       "      <td>1000</td>\n",
       "      <td>1</td>\n",
       "      <td>23</td>\n",
       "      <td>7.576000</td>\n",
       "      <td>3.604333</td>\n",
       "    </tr>\n",
       "  </tbody>\n",
       "</table>\n",
       "</div>"
      ],
      "text/plain": [
       "          num_tried                         rating                      \\\n",
       "              count        mean  min    max  count  min  max      mean   \n",
       "exclusive                                                                \n",
       "False          2245  786.531849  100  24704   2245  6.2  9.5  7.890646   \n",
       "True           1000  975.210000  100  68706   1000  6.5  9.4  8.019100   \n",
       "\n",
       "                    num_ingred                              \n",
       "                std      count min max      mean       std  \n",
       "exclusive                                                   \n",
       "False      0.444587       2245   1  26  7.195546  3.403833  \n",
       "True       0.445133       1000   1  23  7.576000  3.604333  "
      ]
     },
     "execution_count": 32,
     "metadata": {},
     "output_type": "execute_result"
    }
   ],
   "source": [
    "colFun = {'num_tried':['count','mean','min','max'],\n",
    "          'rating':['count','min','max','mean','std'],\n",
    "          'num_ingred':['count','min', 'max', 'mean', 'std']}\n",
    "ifExclusive.agg(colFun)"
   ]
  },
  {
   "cell_type": "markdown",
   "metadata": {},
   "source": [
    "More users tried the exclusive recipes and the ratings for exclusive recipes is slightly higher. The number of ingredients used in exclusive recipes is more or less the same when compared to non-exclusive ones."
   ]
  },
  {
   "cell_type": "code",
   "execution_count": 33,
   "metadata": {},
   "outputs": [
    {
     "data": {
      "text/html": [
       "<div>\n",
       "<style scoped>\n",
       "    .dataframe tbody tr th:only-of-type {\n",
       "        vertical-align: middle;\n",
       "    }\n",
       "\n",
       "    .dataframe tbody tr th {\n",
       "        vertical-align: top;\n",
       "    }\n",
       "\n",
       "    .dataframe thead th {\n",
       "        text-align: right;\n",
       "    }\n",
       "</style>\n",
       "<table border=\"1\" class=\"dataframe\">\n",
       "  <thead>\n",
       "    <tr style=\"text-align: right;\">\n",
       "      <th></th>\n",
       "      <th>count</th>\n",
       "      <th>mean</th>\n",
       "    </tr>\n",
       "    <tr>\n",
       "      <th>exclusive</th>\n",
       "      <th></th>\n",
       "      <th></th>\n",
       "    </tr>\n",
       "  </thead>\n",
       "  <tbody>\n",
       "    <tr>\n",
       "      <td>False</td>\n",
       "      <td>2245</td>\n",
       "      <td>0.66147</td>\n",
       "    </tr>\n",
       "    <tr>\n",
       "      <td>True</td>\n",
       "      <td>1000</td>\n",
       "      <td>0.77800</td>\n",
       "    </tr>\n",
       "  </tbody>\n",
       "</table>\n",
       "</div>"
      ],
      "text/plain": [
       "           count     mean\n",
       "exclusive                \n",
       "False       2245  0.66147\n",
       "True        1000  0.77800"
      ]
     },
     "execution_count": 33,
     "metadata": {},
     "output_type": "execute_result"
    }
   ],
   "source": [
    "ifExclusive.agg(['count', 'mean'])['picture']"
   ]
  },
  {
   "cell_type": "code",
   "execution_count": 34,
   "metadata": {},
   "outputs": [
    {
     "data": {
      "text/html": [
       "<div>\n",
       "<style scoped>\n",
       "    .dataframe tbody tr th:only-of-type {\n",
       "        vertical-align: middle;\n",
       "    }\n",
       "\n",
       "    .dataframe tbody tr th {\n",
       "        vertical-align: top;\n",
       "    }\n",
       "\n",
       "    .dataframe thead tr th {\n",
       "        text-align: left;\n",
       "    }\n",
       "\n",
       "    .dataframe thead tr:last-of-type th {\n",
       "        text-align: right;\n",
       "    }\n",
       "</style>\n",
       "<table border=\"1\" class=\"dataframe\">\n",
       "  <thead>\n",
       "    <tr>\n",
       "      <th></th>\n",
       "      <th colspan=\"5\" halign=\"left\">num_tried</th>\n",
       "    </tr>\n",
       "    <tr>\n",
       "      <th></th>\n",
       "      <th>count</th>\n",
       "      <th>mean</th>\n",
       "      <th>min</th>\n",
       "      <th>max</th>\n",
       "      <th>std</th>\n",
       "    </tr>\n",
       "    <tr>\n",
       "      <th>exclusive</th>\n",
       "      <th></th>\n",
       "      <th></th>\n",
       "      <th></th>\n",
       "      <th></th>\n",
       "      <th></th>\n",
       "    </tr>\n",
       "  </thead>\n",
       "  <tbody>\n",
       "    <tr>\n",
       "      <td>False</td>\n",
       "      <td>2223</td>\n",
       "      <td>664.188484</td>\n",
       "      <td>100</td>\n",
       "      <td>7083</td>\n",
       "      <td>990.982906</td>\n",
       "    </tr>\n",
       "    <tr>\n",
       "      <td>True</td>\n",
       "      <td>986</td>\n",
       "      <td>746.171400</td>\n",
       "      <td>100</td>\n",
       "      <td>6851</td>\n",
       "      <td>1030.233601</td>\n",
       "    </tr>\n",
       "  </tbody>\n",
       "</table>\n",
       "</div>"
      ],
      "text/plain": [
       "          num_tried                                    \n",
       "              count        mean  min   max          std\n",
       "exclusive                                              \n",
       "False          2223  664.188484  100  7083   990.982906\n",
       "True            986  746.171400  100  6851  1030.233601"
      ]
     },
     "execution_count": 34,
     "metadata": {},
     "output_type": "execute_result"
    }
   ],
   "source": [
    "ifEx1 = all_recipes1.groupby(['exclusive'])\n",
    "colFun = {'num_tried':['count','mean','min','max','std']}\n",
    "ifEx1.agg(colFun)"
   ]
  },
  {
   "cell_type": "markdown",
   "metadata": {},
   "source": [
    "Exclusive menus tend to have more pictures in the description of the recipes."
   ]
  },
  {
   "cell_type": "code",
   "execution_count": 35,
   "metadata": {},
   "outputs": [
    {
     "data": {
      "image/png": "[encoded data removed]",
      "text/plain": [
       "<Figure size 432x288 with 1 Axes>"
      ]
     },
     "metadata": {},
     "output_type": "display_data"
    }
   ],
   "source": [
    "ax = sns.boxplot(x = 'exclusive', y = 'rating', data = all_recipes, order = [False, True])\n",
    "ax.set(xlabel='exclusive recipe', ylabel='ratings', title = 'exclusive recipe and ratings')\n",
    "plt.show()"
   ]
  },
  {
   "cell_type": "markdown",
   "metadata": {},
   "source": [
    "We now perform the statistical test"
   ]
  },
  {
   "cell_type": "code",
   "execution_count": 36,
   "metadata": {},
   "outputs": [
    {
     "data": {
      "text/plain": [
       "Ttest_indResult(statistic=2.685741185169574, pvalue=0.007273642545274233)"
      ]
     },
     "execution_count": 36,
     "metadata": {},
     "output_type": "execute_result"
    }
   ],
   "source": [
    "ifEx_True = ifExclusive.get_group(True)\n",
    "ifEx_False = ifExclusive.get_group(False)\n",
    "tlist = ifEx_True['num_tried'].tolist()\n",
    "flist = ifEx_False['num_tried'].tolist()\n",
    "tlist1 = resample(tlist, n_samples = len(flist), replace = True)\n",
    "stats.ttest_ind(tlist1, flist, equal_var = False)"
   ]
  },
  {
   "cell_type": "code",
   "execution_count": 37,
   "metadata": {},
   "outputs": [
    {
     "data": {
      "text/plain": [
       "Ttest_indResult(statistic=8.943139378964723, pvalue=5.426870847175482e-19)"
      ]
     },
     "execution_count": 37,
     "metadata": {},
     "output_type": "execute_result"
    }
   ],
   "source": [
    "ifEx_True = ifExclusive.get_group(True)\n",
    "ifEx_False = ifExclusive.get_group(False)\n",
    "tlist = ifEx_True['rating'].tolist()\n",
    "flist = ifEx_False['rating'].tolist()\n",
    "tlist1 = resample(tlist, n_samples = len(flist), replace = True)\n",
    "stats.ttest_ind(tlist1, flist, equal_var = True)"
   ]
  },
  {
   "cell_type": "markdown",
   "metadata": {},
   "source": [
    "#### Groupby Study Picture"
   ]
  },
  {
   "cell_type": "code",
   "execution_count": 38,
   "metadata": {},
   "outputs": [],
   "source": [
    "ifPicture = all_recipes.groupby(['picture'])"
   ]
  },
  {
   "cell_type": "code",
   "execution_count": 39,
   "metadata": {},
   "outputs": [
    {
     "data": {
      "text/html": [
       "<div>\n",
       "<style scoped>\n",
       "    .dataframe tbody tr th:only-of-type {\n",
       "        vertical-align: middle;\n",
       "    }\n",
       "\n",
       "    .dataframe tbody tr th {\n",
       "        vertical-align: top;\n",
       "    }\n",
       "\n",
       "    .dataframe thead tr th {\n",
       "        text-align: left;\n",
       "    }\n",
       "\n",
       "    .dataframe thead tr:last-of-type th {\n",
       "        text-align: right;\n",
       "    }\n",
       "</style>\n",
       "<table border=\"1\" class=\"dataframe\">\n",
       "  <thead>\n",
       "    <tr>\n",
       "      <th></th>\n",
       "      <th colspan=\"4\" halign=\"left\">num_tried</th>\n",
       "      <th colspan=\"5\" halign=\"left\">rating</th>\n",
       "      <th colspan=\"5\" halign=\"left\">num_ingred</th>\n",
       "    </tr>\n",
       "    <tr>\n",
       "      <th></th>\n",
       "      <th>count</th>\n",
       "      <th>mean</th>\n",
       "      <th>min</th>\n",
       "      <th>max</th>\n",
       "      <th>count</th>\n",
       "      <th>min</th>\n",
       "      <th>max</th>\n",
       "      <th>mean</th>\n",
       "      <th>std</th>\n",
       "      <th>count</th>\n",
       "      <th>min</th>\n",
       "      <th>max</th>\n",
       "      <th>mean</th>\n",
       "      <th>std</th>\n",
       "    </tr>\n",
       "    <tr>\n",
       "      <th>picture</th>\n",
       "      <th></th>\n",
       "      <th></th>\n",
       "      <th></th>\n",
       "      <th></th>\n",
       "      <th></th>\n",
       "      <th></th>\n",
       "      <th></th>\n",
       "      <th></th>\n",
       "      <th></th>\n",
       "      <th></th>\n",
       "      <th></th>\n",
       "      <th></th>\n",
       "      <th></th>\n",
       "      <th></th>\n",
       "    </tr>\n",
       "  </thead>\n",
       "  <tbody>\n",
       "    <tr>\n",
       "      <td>False</td>\n",
       "      <td>982</td>\n",
       "      <td>608.419552</td>\n",
       "      <td>100</td>\n",
       "      <td>9976</td>\n",
       "      <td>982</td>\n",
       "      <td>6.3</td>\n",
       "      <td>9.5</td>\n",
       "      <td>7.818839</td>\n",
       "      <td>0.444495</td>\n",
       "      <td>982</td>\n",
       "      <td>1</td>\n",
       "      <td>19</td>\n",
       "      <td>6.952138</td>\n",
       "      <td>3.120213</td>\n",
       "    </tr>\n",
       "    <tr>\n",
       "      <td>True</td>\n",
       "      <td>2263</td>\n",
       "      <td>947.196642</td>\n",
       "      <td>100</td>\n",
       "      <td>68706</td>\n",
       "      <td>2263</td>\n",
       "      <td>6.2</td>\n",
       "      <td>9.4</td>\n",
       "      <td>7.978568</td>\n",
       "      <td>0.441849</td>\n",
       "      <td>2263</td>\n",
       "      <td>1</td>\n",
       "      <td>26</td>\n",
       "      <td>7.469289</td>\n",
       "      <td>3.601725</td>\n",
       "    </tr>\n",
       "  </tbody>\n",
       "</table>\n",
       "</div>"
      ],
      "text/plain": [
       "        num_tried                         rating                      \\\n",
       "            count        mean  min    max  count  min  max      mean   \n",
       "picture                                                                \n",
       "False         982  608.419552  100   9976    982  6.3  9.5  7.818839   \n",
       "True         2263  947.196642  100  68706   2263  6.2  9.4  7.978568   \n",
       "\n",
       "                  num_ingred                              \n",
       "              std      count min max      mean       std  \n",
       "picture                                                   \n",
       "False    0.444495        982   1  19  6.952138  3.120213  \n",
       "True     0.441849       2263   1  26  7.469289  3.601725  "
      ]
     },
     "execution_count": 39,
     "metadata": {},
     "output_type": "execute_result"
    }
   ],
   "source": [
    "colFun = {'num_tried':['count','mean','min','max'],\n",
    "          'rating':['count','min','max','mean','std'],\n",
    "          'num_ingred':['count','min', 'max', 'mean', 'std']}\n",
    "ifPicture.agg(colFun)"
   ]
  },
  {
   "cell_type": "markdown",
   "metadata": {},
   "source": [
    "More people tried the recipe with pictures. The ratings are somewhat similar."
   ]
  },
  {
   "cell_type": "code",
   "execution_count": 40,
   "metadata": {},
   "outputs": [
    {
     "data": {
      "text/html": [
       "<div>\n",
       "<style scoped>\n",
       "    .dataframe tbody tr th:only-of-type {\n",
       "        vertical-align: middle;\n",
       "    }\n",
       "\n",
       "    .dataframe tbody tr th {\n",
       "        vertical-align: top;\n",
       "    }\n",
       "\n",
       "    .dataframe thead th {\n",
       "        text-align: right;\n",
       "    }\n",
       "</style>\n",
       "<table border=\"1\" class=\"dataframe\">\n",
       "  <thead>\n",
       "    <tr style=\"text-align: right;\">\n",
       "      <th></th>\n",
       "      <th>count</th>\n",
       "      <th>mean</th>\n",
       "    </tr>\n",
       "    <tr>\n",
       "      <th>picture</th>\n",
       "      <th></th>\n",
       "      <th></th>\n",
       "    </tr>\n",
       "  </thead>\n",
       "  <tbody>\n",
       "    <tr>\n",
       "      <td>False</td>\n",
       "      <td>982</td>\n",
       "      <td>0.226069</td>\n",
       "    </tr>\n",
       "    <tr>\n",
       "      <td>True</td>\n",
       "      <td>2263</td>\n",
       "      <td>0.343791</td>\n",
       "    </tr>\n",
       "  </tbody>\n",
       "</table>\n",
       "</div>"
      ],
      "text/plain": [
       "         count      mean\n",
       "picture                 \n",
       "False      982  0.226069\n",
       "True      2263  0.343791"
      ]
     },
     "execution_count": 40,
     "metadata": {},
     "output_type": "execute_result"
    }
   ],
   "source": [
    "ifPicture.agg(['count', 'mean'])['exclusive']"
   ]
  },
  {
   "cell_type": "code",
   "execution_count": 41,
   "metadata": {},
   "outputs": [
    {
     "data": {
      "text/html": [
       "<div>\n",
       "<style scoped>\n",
       "    .dataframe tbody tr th:only-of-type {\n",
       "        vertical-align: middle;\n",
       "    }\n",
       "\n",
       "    .dataframe tbody tr th {\n",
       "        vertical-align: top;\n",
       "    }\n",
       "\n",
       "    .dataframe thead tr th {\n",
       "        text-align: left;\n",
       "    }\n",
       "\n",
       "    .dataframe thead tr:last-of-type th {\n",
       "        text-align: right;\n",
       "    }\n",
       "</style>\n",
       "<table border=\"1\" class=\"dataframe\">\n",
       "  <thead>\n",
       "    <tr>\n",
       "      <th></th>\n",
       "      <th colspan=\"5\" halign=\"left\">num_tried</th>\n",
       "    </tr>\n",
       "    <tr>\n",
       "      <th></th>\n",
       "      <th>count</th>\n",
       "      <th>mean</th>\n",
       "      <th>min</th>\n",
       "      <th>max</th>\n",
       "      <th>std</th>\n",
       "    </tr>\n",
       "    <tr>\n",
       "      <th>picture</th>\n",
       "      <th></th>\n",
       "      <th></th>\n",
       "      <th></th>\n",
       "      <th></th>\n",
       "      <th></th>\n",
       "    </tr>\n",
       "  </thead>\n",
       "  <tbody>\n",
       "    <tr>\n",
       "      <td>False</td>\n",
       "      <td>979</td>\n",
       "      <td>584.268641</td>\n",
       "      <td>100</td>\n",
       "      <td>6259</td>\n",
       "      <td>818.321271</td>\n",
       "    </tr>\n",
       "    <tr>\n",
       "      <td>True</td>\n",
       "      <td>2230</td>\n",
       "      <td>735.523318</td>\n",
       "      <td>100</td>\n",
       "      <td>7083</td>\n",
       "      <td>1072.030770</td>\n",
       "    </tr>\n",
       "  </tbody>\n",
       "</table>\n",
       "</div>"
      ],
      "text/plain": [
       "        num_tried                                    \n",
       "            count        mean  min   max          std\n",
       "picture                                              \n",
       "False         979  584.268641  100  6259   818.321271\n",
       "True         2230  735.523318  100  7083  1072.030770"
      ]
     },
     "execution_count": 41,
     "metadata": {},
     "output_type": "execute_result"
    }
   ],
   "source": [
    "ifP1 = all_recipes1.groupby(['picture'])\n",
    "colFun = {'num_tried':['count','mean','min','max','std']}\n",
    "ifP1.agg(colFun)"
   ]
  },
  {
   "cell_type": "markdown",
   "metadata": {},
   "source": [
    "Recipes with pictures are more likely to be exclusive."
   ]
  },
  {
   "cell_type": "code",
   "execution_count": 42,
   "metadata": {},
   "outputs": [
    {
     "data": {
      "image/png": "[encoded data removed]",
      "text/plain": [
       "<Figure size 432x288 with 1 Axes>"
      ]
     },
     "metadata": {},
     "output_type": "display_data"
    }
   ],
   "source": [
    "ax = sns.boxplot(x = 'picture', y = 'rating', data = all_recipes, order = [False, True])\n",
    "ax.set(xlabel='With picture steps', ylabel='ratings', title = 'picture steps and ratings')\n",
    "plt.show()"
   ]
  },
  {
   "cell_type": "markdown",
   "metadata": {},
   "source": [
    "We now perform the statistical test"
   ]
  },
  {
   "cell_type": "code",
   "execution_count": 43,
   "metadata": {},
   "outputs": [
    {
     "data": {
      "text/plain": [
       "Ttest_indResult(statistic=3.634632745742519, pvalue=0.00028729738327385053)"
      ]
     },
     "execution_count": 43,
     "metadata": {},
     "output_type": "execute_result"
    }
   ],
   "source": [
    "ifPicture_True = ifPicture.get_group(True)\n",
    "ifPicture_False = ifPicture.get_group(False)\n",
    "tlist = ifPicture_True['num_tried'].tolist()\n",
    "flist = ifPicture_False['num_tried'].tolist()\n",
    "tlist1 = resample(tlist, n_samples = len(flist), replace = True)\n",
    "stats.ttest_ind(tlist1, flist, equal_var = False)"
   ]
  },
  {
   "cell_type": "code",
   "execution_count": 44,
   "metadata": {},
   "outputs": [
    {
     "data": {
      "text/plain": [
       "Ttest_indResult(statistic=8.052213494317702, pvalue=1.3957053624874263e-15)"
      ]
     },
     "execution_count": 44,
     "metadata": {},
     "output_type": "execute_result"
    }
   ],
   "source": [
    "ifPicture_True = ifPicture.get_group(True)\n",
    "ifPicture_False = ifPicture.get_group(False)\n",
    "tlist = ifPicture_True['rating'].tolist()\n",
    "flist = ifPicture_False['rating'].tolist()\n",
    "tlist1 = resample(tlist, n_samples = len(flist), replace = True)\n",
    "stats.ttest_ind(tlist1, flist, equal_var = True)"
   ]
  },
  {
   "cell_type": "markdown",
   "metadata": {},
   "source": [
    "### Master, Exclusive & Picture (mep)"
   ]
  },
  {
   "cell_type": "code",
   "execution_count": 45,
   "metadata": {},
   "outputs": [
    {
     "data": {
      "text/plain": [
       "master  exclusive  picture\n",
       "False   False      False      617\n",
       "                   True       982\n",
       "        True       False       72\n",
       "                   True       359\n",
       "True    False      False      143\n",
       "                   True       503\n",
       "        True       False      150\n",
       "                   True       419\n",
       "dtype: int64"
      ]
     },
     "execution_count": 45,
     "metadata": {},
     "output_type": "execute_result"
    }
   ],
   "source": [
    "mep_group = all_recipes.groupby(['master', 'exclusive', 'picture'])\n",
    "mep_group.size()"
   ]
  },
  {
   "cell_type": "code",
   "execution_count": 46,
   "metadata": {},
   "outputs": [
    {
     "data": {
      "text/html": [
       "<div>\n",
       "<style scoped>\n",
       "    .dataframe tbody tr th:only-of-type {\n",
       "        vertical-align: middle;\n",
       "    }\n",
       "\n",
       "    .dataframe tbody tr th {\n",
       "        vertical-align: top;\n",
       "    }\n",
       "\n",
       "    .dataframe thead tr th {\n",
       "        text-align: left;\n",
       "    }\n",
       "\n",
       "    .dataframe thead tr:last-of-type th {\n",
       "        text-align: right;\n",
       "    }\n",
       "</style>\n",
       "<table border=\"1\" class=\"dataframe\">\n",
       "  <thead>\n",
       "    <tr>\n",
       "      <th></th>\n",
       "      <th></th>\n",
       "      <th></th>\n",
       "      <th colspan=\"4\" halign=\"left\">num_tried</th>\n",
       "      <th colspan=\"3\" halign=\"left\">rating</th>\n",
       "      <th colspan=\"3\" halign=\"left\">num_ingred</th>\n",
       "    </tr>\n",
       "    <tr>\n",
       "      <th></th>\n",
       "      <th></th>\n",
       "      <th></th>\n",
       "      <th>count</th>\n",
       "      <th>mean</th>\n",
       "      <th>min</th>\n",
       "      <th>max</th>\n",
       "      <th>min</th>\n",
       "      <th>max</th>\n",
       "      <th>mean</th>\n",
       "      <th>min</th>\n",
       "      <th>max</th>\n",
       "      <th>mean</th>\n",
       "    </tr>\n",
       "    <tr>\n",
       "      <th>master</th>\n",
       "      <th>exclusive</th>\n",
       "      <th>picture</th>\n",
       "      <th></th>\n",
       "      <th></th>\n",
       "      <th></th>\n",
       "      <th></th>\n",
       "      <th></th>\n",
       "      <th></th>\n",
       "      <th></th>\n",
       "      <th></th>\n",
       "      <th></th>\n",
       "      <th></th>\n",
       "    </tr>\n",
       "  </thead>\n",
       "  <tbody>\n",
       "    <tr>\n",
       "      <td rowspan=\"4\" valign=\"top\">False</td>\n",
       "      <td rowspan=\"2\" valign=\"top\">False</td>\n",
       "      <td>False</td>\n",
       "      <td>617</td>\n",
       "      <td>537.620746</td>\n",
       "      <td>100</td>\n",
       "      <td>8037</td>\n",
       "      <td>6.4</td>\n",
       "      <td>9.1</td>\n",
       "      <td>7.798379</td>\n",
       "      <td>1</td>\n",
       "      <td>19</td>\n",
       "      <td>6.927066</td>\n",
       "    </tr>\n",
       "    <tr>\n",
       "      <td>True</td>\n",
       "      <td>982</td>\n",
       "      <td>870.993890</td>\n",
       "      <td>100</td>\n",
       "      <td>24704</td>\n",
       "      <td>6.2</td>\n",
       "      <td>9.3</td>\n",
       "      <td>7.859980</td>\n",
       "      <td>1</td>\n",
       "      <td>23</td>\n",
       "      <td>7.072301</td>\n",
       "    </tr>\n",
       "    <tr>\n",
       "      <td rowspan=\"2\" valign=\"top\">True</td>\n",
       "      <td>False</td>\n",
       "      <td>72</td>\n",
       "      <td>627.708333</td>\n",
       "      <td>115</td>\n",
       "      <td>4706</td>\n",
       "      <td>6.6</td>\n",
       "      <td>8.6</td>\n",
       "      <td>7.816667</td>\n",
       "      <td>2</td>\n",
       "      <td>16</td>\n",
       "      <td>7.638889</td>\n",
       "    </tr>\n",
       "    <tr>\n",
       "      <td>True</td>\n",
       "      <td>359</td>\n",
       "      <td>955.696379</td>\n",
       "      <td>101</td>\n",
       "      <td>36799</td>\n",
       "      <td>6.9</td>\n",
       "      <td>9.4</td>\n",
       "      <td>7.980501</td>\n",
       "      <td>1</td>\n",
       "      <td>23</td>\n",
       "      <td>7.871866</td>\n",
       "    </tr>\n",
       "    <tr>\n",
       "      <td rowspan=\"4\" valign=\"top\">True</td>\n",
       "      <td rowspan=\"2\" valign=\"top\">False</td>\n",
       "      <td>False</td>\n",
       "      <td>143</td>\n",
       "      <td>626.048951</td>\n",
       "      <td>101</td>\n",
       "      <td>9976</td>\n",
       "      <td>6.3</td>\n",
       "      <td>9.5</td>\n",
       "      <td>7.872028</td>\n",
       "      <td>1</td>\n",
       "      <td>15</td>\n",
       "      <td>6.867133</td>\n",
       "    </tr>\n",
       "    <tr>\n",
       "      <td>True</td>\n",
       "      <td>503</td>\n",
       "      <td>972.586481</td>\n",
       "      <td>100</td>\n",
       "      <td>21236</td>\n",
       "      <td>6.3</td>\n",
       "      <td>9.0</td>\n",
       "      <td>8.068986</td>\n",
       "      <td>1</td>\n",
       "      <td>26</td>\n",
       "      <td>7.858847</td>\n",
       "    </tr>\n",
       "    <tr>\n",
       "      <td rowspan=\"2\" valign=\"top\">True</td>\n",
       "      <td>False</td>\n",
       "      <td>150</td>\n",
       "      <td>873.573333</td>\n",
       "      <td>101</td>\n",
       "      <td>7456</td>\n",
       "      <td>6.5</td>\n",
       "      <td>9.1</td>\n",
       "      <td>7.853333</td>\n",
       "      <td>1</td>\n",
       "      <td>16</td>\n",
       "      <td>6.806667</td>\n",
       "    </tr>\n",
       "    <tr>\n",
       "      <td>True</td>\n",
       "      <td>419</td>\n",
       "      <td>1088.028640</td>\n",
       "      <td>100</td>\n",
       "      <td>68706</td>\n",
       "      <td>6.5</td>\n",
       "      <td>9.4</td>\n",
       "      <td>8.146301</td>\n",
       "      <td>1</td>\n",
       "      <td>19</td>\n",
       "      <td>7.587112</td>\n",
       "    </tr>\n",
       "  </tbody>\n",
       "</table>\n",
       "</div>"
      ],
      "text/plain": [
       "                         num_tried                          rating       \\\n",
       "                             count         mean  min    max    min  max   \n",
       "master exclusive picture                                                  \n",
       "False  False     False         617   537.620746  100   8037    6.4  9.1   \n",
       "                 True          982   870.993890  100  24704    6.2  9.3   \n",
       "       True      False          72   627.708333  115   4706    6.6  8.6   \n",
       "                 True          359   955.696379  101  36799    6.9  9.4   \n",
       "True   False     False         143   626.048951  101   9976    6.3  9.5   \n",
       "                 True          503   972.586481  100  21236    6.3  9.0   \n",
       "       True      False         150   873.573333  101   7456    6.5  9.1   \n",
       "                 True          419  1088.028640  100  68706    6.5  9.4   \n",
       "\n",
       "                                   num_ingred                \n",
       "                              mean        min max      mean  \n",
       "master exclusive picture                                     \n",
       "False  False     False    7.798379          1  19  6.927066  \n",
       "                 True     7.859980          1  23  7.072301  \n",
       "       True      False    7.816667          2  16  7.638889  \n",
       "                 True     7.980501          1  23  7.871866  \n",
       "True   False     False    7.872028          1  15  6.867133  \n",
       "                 True     8.068986          1  26  7.858847  \n",
       "       True      False    7.853333          1  16  6.806667  \n",
       "                 True     8.146301          1  19  7.587112  "
      ]
     },
     "execution_count": 46,
     "metadata": {},
     "output_type": "execute_result"
    }
   ],
   "source": [
    "colFun = {'num_tried':['count','mean','min','max'],\n",
    "          'rating':['min','max','mean'],\n",
    "          'num_ingred':['min', 'max', 'mean']}\n",
    "mep_analysis = mep_group.agg(colFun)\n",
    "mep_analysis"
   ]
  },
  {
   "cell_type": "markdown",
   "metadata": {},
   "source": [
    "#### Groupby Study Authors\n",
    "In this part, we try to study questions related to groups divided according to authors."
   ]
  },
  {
   "cell_type": "code",
   "execution_count": 47,
   "metadata": {},
   "outputs": [],
   "source": [
    "authorGroup = all_recipes.groupby(['author'])"
   ]
  },
  {
   "cell_type": "code",
   "execution_count": 48,
   "metadata": {},
   "outputs": [
    {
     "data": {
      "text/html": [
       "<div>\n",
       "<style scoped>\n",
       "    .dataframe tbody tr th:only-of-type {\n",
       "        vertical-align: middle;\n",
       "    }\n",
       "\n",
       "    .dataframe tbody tr th {\n",
       "        vertical-align: top;\n",
       "    }\n",
       "\n",
       "    .dataframe thead th {\n",
       "        text-align: right;\n",
       "    }\n",
       "</style>\n",
       "<table border=\"1\" class=\"dataframe\">\n",
       "  <thead>\n",
       "    <tr style=\"text-align: right;\">\n",
       "      <th></th>\n",
       "      <th>num_recipes</th>\n",
       "    </tr>\n",
       "    <tr>\n",
       "      <th>author</th>\n",
       "      <th></th>\n",
       "    </tr>\n",
       "  </thead>\n",
       "  <tbody>\n",
       "    <tr>\n",
       "      <td>冇伱灬冇我</td>\n",
       "      <td>50</td>\n",
       "    </tr>\n",
       "    <tr>\n",
       "      <td>yanyanfoodtube</td>\n",
       "      <td>39</td>\n",
       "    </tr>\n",
       "    <tr>\n",
       "      <td>玉池桃红</td>\n",
       "      <td>38</td>\n",
       "    </tr>\n",
       "    <tr>\n",
       "      <td>懒饭App</td>\n",
       "      <td>37</td>\n",
       "    </tr>\n",
       "    <tr>\n",
       "      <td>日食记</td>\n",
       "      <td>33</td>\n",
       "    </tr>\n",
       "  </tbody>\n",
       "</table>\n",
       "</div>"
      ],
      "text/plain": [
       "                num_recipes\n",
       "author                     \n",
       "冇伱灬冇我                    50\n",
       "yanyanfoodtube           39\n",
       "玉池桃红                     38\n",
       "懒饭App                    37\n",
       "日食记                      33"
      ]
     },
     "execution_count": 48,
     "metadata": {},
     "output_type": "execute_result"
    }
   ],
   "source": [
    "author_size = authorGroup.size().sort_values(ascending = False).to_frame()\n",
    "author_size.columns = ['num_recipes']\n",
    "author_size.head()"
   ]
  },
  {
   "cell_type": "code",
   "execution_count": 49,
   "metadata": {},
   "outputs": [
    {
     "data": {
      "text/html": [
       "<div>\n",
       "<style scoped>\n",
       "    .dataframe tbody tr th:only-of-type {\n",
       "        vertical-align: middle;\n",
       "    }\n",
       "\n",
       "    .dataframe tbody tr th {\n",
       "        vertical-align: top;\n",
       "    }\n",
       "\n",
       "    .dataframe thead th {\n",
       "        text-align: right;\n",
       "    }\n",
       "</style>\n",
       "<table border=\"1\" class=\"dataframe\">\n",
       "  <thead>\n",
       "    <tr style=\"text-align: right;\">\n",
       "      <th></th>\n",
       "      <th>num_ingred</th>\n",
       "      <th>num_tried</th>\n",
       "      <th>rating</th>\n",
       "    </tr>\n",
       "  </thead>\n",
       "  <tbody>\n",
       "    <tr>\n",
       "      <td>count</td>\n",
       "      <td>50.000000</td>\n",
       "      <td>50.000000</td>\n",
       "      <td>50.000000</td>\n",
       "    </tr>\n",
       "    <tr>\n",
       "      <td>mean</td>\n",
       "      <td>11.280000</td>\n",
       "      <td>1284.960000</td>\n",
       "      <td>8.402000</td>\n",
       "    </tr>\n",
       "    <tr>\n",
       "      <td>std</td>\n",
       "      <td>2.899965</td>\n",
       "      <td>2071.870997</td>\n",
       "      <td>0.307385</td>\n",
       "    </tr>\n",
       "    <tr>\n",
       "      <td>min</td>\n",
       "      <td>3.000000</td>\n",
       "      <td>110.000000</td>\n",
       "      <td>7.400000</td>\n",
       "    </tr>\n",
       "    <tr>\n",
       "      <td>25%</td>\n",
       "      <td>9.000000</td>\n",
       "      <td>253.500000</td>\n",
       "      <td>8.200000</td>\n",
       "    </tr>\n",
       "    <tr>\n",
       "      <td>50%</td>\n",
       "      <td>12.000000</td>\n",
       "      <td>407.000000</td>\n",
       "      <td>8.400000</td>\n",
       "    </tr>\n",
       "    <tr>\n",
       "      <td>75%</td>\n",
       "      <td>13.000000</td>\n",
       "      <td>1728.000000</td>\n",
       "      <td>8.600000</td>\n",
       "    </tr>\n",
       "    <tr>\n",
       "      <td>max</td>\n",
       "      <td>17.000000</td>\n",
       "      <td>11093.000000</td>\n",
       "      <td>9.100000</td>\n",
       "    </tr>\n",
       "  </tbody>\n",
       "</table>\n",
       "</div>"
      ],
      "text/plain": [
       "       num_ingred     num_tried     rating\n",
       "count   50.000000     50.000000  50.000000\n",
       "mean    11.280000   1284.960000   8.402000\n",
       "std      2.899965   2071.870997   0.307385\n",
       "min      3.000000    110.000000   7.400000\n",
       "25%      9.000000    253.500000   8.200000\n",
       "50%     12.000000    407.000000   8.400000\n",
       "75%     13.000000   1728.000000   8.600000\n",
       "max     17.000000  11093.000000   9.100000"
      ]
     },
     "execution_count": 49,
     "metadata": {},
     "output_type": "execute_result"
    }
   ],
   "source": [
    "# summary data of the most hardworking author (produces the most recipes)\n",
    "all_recipes[all_recipes.author == '冇伱灬冇我'].describe()"
   ]
  },
  {
   "cell_type": "code",
   "execution_count": 50,
   "metadata": {},
   "outputs": [],
   "source": [
    "def productive_list(number_recipes, df):\n",
    "    '''\n",
    "    Input: number_recipes integer number of recipes made by the author\n",
    "            df: dataframe\n",
    "    Output: shortened dataframes containing only productive authors\n",
    "    '''\n",
    "    author_list = author_size[author_size.num_recipes >= number_recipes].index.tolist()\n",
    "    ifProductive = []\n",
    "    for _ in range(len(all_recipes)):\n",
    "        ifProductive.append(all_recipes.author[_] in author_list)\n",
    "    return df[ifProductive]"
   ]
  },
  {
   "cell_type": "code",
   "execution_count": 51,
   "metadata": {},
   "outputs": [
    {
     "data": {
      "text/html": [
       "<div>\n",
       "<style scoped>\n",
       "    .dataframe tbody tr th:only-of-type {\n",
       "        vertical-align: middle;\n",
       "    }\n",
       "\n",
       "    .dataframe tbody tr th {\n",
       "        vertical-align: top;\n",
       "    }\n",
       "\n",
       "    .dataframe thead th {\n",
       "        text-align: right;\n",
       "    }\n",
       "</style>\n",
       "<table border=\"1\" class=\"dataframe\">\n",
       "  <thead>\n",
       "    <tr style=\"text-align: right;\">\n",
       "      <th></th>\n",
       "      <th>num_ingred</th>\n",
       "      <th>num_tried</th>\n",
       "      <th>rating</th>\n",
       "    </tr>\n",
       "  </thead>\n",
       "  <tbody>\n",
       "    <tr>\n",
       "      <td>count</td>\n",
       "      <td>433.000000</td>\n",
       "      <td>433.000000</td>\n",
       "      <td>433.00000</td>\n",
       "    </tr>\n",
       "    <tr>\n",
       "      <td>mean</td>\n",
       "      <td>8.390300</td>\n",
       "      <td>867.886836</td>\n",
       "      <td>8.10485</td>\n",
       "    </tr>\n",
       "    <tr>\n",
       "      <td>std</td>\n",
       "      <td>3.312798</td>\n",
       "      <td>1752.426686</td>\n",
       "      <td>0.46198</td>\n",
       "    </tr>\n",
       "    <tr>\n",
       "      <td>min</td>\n",
       "      <td>1.000000</td>\n",
       "      <td>100.000000</td>\n",
       "      <td>6.30000</td>\n",
       "    </tr>\n",
       "    <tr>\n",
       "      <td>25%</td>\n",
       "      <td>6.000000</td>\n",
       "      <td>190.000000</td>\n",
       "      <td>7.80000</td>\n",
       "    </tr>\n",
       "    <tr>\n",
       "      <td>50%</td>\n",
       "      <td>8.000000</td>\n",
       "      <td>314.000000</td>\n",
       "      <td>8.10000</td>\n",
       "    </tr>\n",
       "    <tr>\n",
       "      <td>75%</td>\n",
       "      <td>10.000000</td>\n",
       "      <td>735.000000</td>\n",
       "      <td>8.40000</td>\n",
       "    </tr>\n",
       "    <tr>\n",
       "      <td>max</td>\n",
       "      <td>26.000000</td>\n",
       "      <td>18632.000000</td>\n",
       "      <td>9.50000</td>\n",
       "    </tr>\n",
       "  </tbody>\n",
       "</table>\n",
       "</div>"
      ],
      "text/plain": [
       "       num_ingred     num_tried     rating\n",
       "count  433.000000    433.000000  433.00000\n",
       "mean     8.390300    867.886836    8.10485\n",
       "std      3.312798   1752.426686    0.46198\n",
       "min      1.000000    100.000000    6.30000\n",
       "25%      6.000000    190.000000    7.80000\n",
       "50%      8.000000    314.000000    8.10000\n",
       "75%     10.000000    735.000000    8.40000\n",
       "max     26.000000  18632.000000    9.50000"
      ]
     },
     "execution_count": 51,
     "metadata": {},
     "output_type": "execute_result"
    }
   ],
   "source": [
    "# select the most productive author lists (with recipes greater than 10)\n",
    "prod_list = productive_list(20, all_recipes)\n",
    "prod_list.describe()"
   ]
  },
  {
   "cell_type": "code",
   "execution_count": 52,
   "metadata": {},
   "outputs": [
    {
     "data": {
      "text/plain": [
       "13"
      ]
     },
     "execution_count": 52,
     "metadata": {},
     "output_type": "execute_result"
    }
   ],
   "source": [
    "prod_author_list = prod_list[['author', 'master']].drop_duplicates()\n",
    "prod_author_list.master.sum()"
   ]
  },
  {
   "cell_type": "code",
   "execution_count": 53,
   "metadata": {},
   "outputs": [],
   "source": [
    "def mastercook_ratio(low, high):\n",
    "    '''\n",
    "    Input: low lower bound of number of recipes made by the author\n",
    "            high upper bound of number of recipes made by the author\n",
    "    Return: Tuple describing master cook ratios\n",
    "    '''\n",
    "    list_ = []\n",
    "    if low < 1 or high > 50:\n",
    "        raise ValueError('enter some number between 1 and 47')\n",
    "    for i in range(low, high + 1):\n",
    "        prod_list = productive_list(i, all_recipes)\n",
    "        prod_author_list = prod_list[['author', 'master']].drop_duplicates()\n",
    "        list_.append((i,(prod_author_list.master.sum()/len(prod_author_list))))\n",
    "    return list_"
   ]
  },
  {
   "cell_type": "code",
   "execution_count": 54,
   "metadata": {},
   "outputs": [],
   "source": [
    "a = mastercook_ratio(1,50)"
   ]
  },
  {
   "cell_type": "code",
   "execution_count": 55,
   "metadata": {},
   "outputs": [
    {
     "data": {
      "text/plain": [
       "Text(0.5, 1.0, 'Productive author and ratio of master cooks')"
      ]
     },
     "execution_count": 55,
     "metadata": {},
     "output_type": "execute_result"
    },
    {
     "data": {
      "image/png": "[encoded data removed]",
      "text/plain": [
       "<Figure size 432x288 with 1 Axes>"
      ]
     },
     "metadata": {},
     "output_type": "display_data"
    }
   ],
   "source": [
    "a_list = list(zip(*a))\n",
    "plt.scatter(a_list[0], a_list[1])\n",
    "plt.xlabel(\"Number of recipes created\")\n",
    "plt.ylabel(\"Ratio of master cooks\")\n",
    "plt.title(\"Productive author and ratio of master cooks\")"
   ]
  },
  {
   "cell_type": "markdown",
   "metadata": {},
   "source": [
    "#### Groupby Study Number of Ingredients"
   ]
  },
  {
   "cell_type": "code",
   "execution_count": 56,
   "metadata": {},
   "outputs": [],
   "source": [
    "ingredGroup = all_recipes.groupby('num_ingred')"
   ]
  },
  {
   "cell_type": "code",
   "execution_count": 58,
   "metadata": {},
   "outputs": [],
   "source": [
    "colFun = {'num_tried':['count','mean','min','max'],\n",
    "          'rating':['count','min','max','mean','std']}\n",
    "num_ingred_analysis = ingredGroup.agg(colFun)\n",
    "num_ingred_analysis"
   ]
  },
  {
   "cell_type": "code",
   "execution_count": 59,
   "metadata": {
    "scrolled": true
   },
   "outputs": [
    {
     "data": {
      "text/plain": [
       "Text(0.5, 1.0, 'Number of Ingredients VS. Average Number of Attempts')"
      ]
     },
     "execution_count": 59,
     "metadata": {},
     "output_type": "execute_result"
    },
    {
     "data": {
      "image/png": "[encoded data removed]",
      "text/plain": [
       "<Figure size 432x288 with 1 Axes>"
      ]
     },
     "metadata": {},
     "output_type": "display_data"
    }
   ],
   "source": [
    "plt.scatter(range(len(ingredGroup)),ingredGroup.agg(colFun).num_tried['mean'].tolist())\n",
    "plt.xlabel('Number of ingredients used')\n",
    "plt.ylabel('Average number of attempts')\n",
    "plt.title('Number of Ingredients VS. Average Number of Attempts')"
   ]
  },
  {
   "cell_type": "code",
   "execution_count": 60,
   "metadata": {},
   "outputs": [
    {
     "data": {
      "text/plain": [
       "Text(0.5, 1.0, 'Number of Ingredients VS. Mean Ratings')"
      ]
     },
     "execution_count": 60,
     "metadata": {},
     "output_type": "execute_result"
    },
    {
     "data": {
      "image/png": "[encoded data removed]",
      "text/plain": [
       "<Figure size 432x288 with 1 Axes>"
      ]
     },
     "metadata": {},
     "output_type": "display_data"
    }
   ],
   "source": [
    "plt.scatter(range(len(ingredGroup)),ingredGroup.agg(colFun).rating['mean'].tolist())\n",
    "plt.xlabel('Number of ingredients needed')\n",
    "plt.ylabel('Mean rating of the recipe')\n",
    "plt.title('Number of Ingredients VS. Mean Ratings')"
   ]
  },
  {
   "cell_type": "code",
   "execution_count": 61,
   "metadata": {},
   "outputs": [
    {
     "data": {
      "text/plain": [
       "Text(0.5, 1.0, 'Number of Ingredients VS. Number of Recipes')"
      ]
     },
     "execution_count": 61,
     "metadata": {},
     "output_type": "execute_result"
    },
    {
     "data": {
      "image/png": "[encoded data removed]",
      "text/plain": [
       "<Figure size 432x288 with 1 Axes>"
      ]
     },
     "metadata": {},
     "output_type": "display_data"
    }
   ],
   "source": [
    "plt.scatter(range(len(ingredGroup)),ingredGroup.agg(colFun).rating['count'].tolist())\n",
    "plt.xlabel('Number of ingredients needed')\n",
    "plt.ylabel('Number of recipes')\n",
    "plt.title('Number of Ingredients VS. Number of Recipes')"
   ]
  },
  {
   "cell_type": "markdown",
   "metadata": {},
   "source": [
    "### Group Study by Categories"
   ]
  },
  {
   "cell_type": "code",
   "execution_count": 62,
   "metadata": {},
   "outputs": [],
   "source": [
    "categoryGroup = all_recipes.groupby(['category'])"
   ]
  },
  {
   "cell_type": "code",
   "execution_count": 63,
   "metadata": {},
   "outputs": [
    {
     "data": {
      "text/html": [
       "<div>\n",
       "<style scoped>\n",
       "    .dataframe tbody tr th:only-of-type {\n",
       "        vertical-align: middle;\n",
       "    }\n",
       "\n",
       "    .dataframe tbody tr th {\n",
       "        vertical-align: top;\n",
       "    }\n",
       "\n",
       "    .dataframe thead tr th {\n",
       "        text-align: left;\n",
       "    }\n",
       "\n",
       "    .dataframe thead tr:last-of-type th {\n",
       "        text-align: right;\n",
       "    }\n",
       "</style>\n",
       "<table border=\"1\" class=\"dataframe\">\n",
       "  <thead>\n",
       "    <tr>\n",
       "      <th></th>\n",
       "      <th colspan=\"3\" halign=\"left\">num_ingred</th>\n",
       "      <th colspan=\"3\" halign=\"left\">master</th>\n",
       "      <th colspan=\"3\" halign=\"left\">num_tried</th>\n",
       "      <th colspan=\"3\" halign=\"left\">rating</th>\n",
       "      <th colspan=\"3\" halign=\"left\">picture</th>\n",
       "      <th colspan=\"3\" halign=\"left\">exclusive</th>\n",
       "    </tr>\n",
       "    <tr>\n",
       "      <th></th>\n",
       "      <th>sum</th>\n",
       "      <th>count</th>\n",
       "      <th>mean</th>\n",
       "      <th>sum</th>\n",
       "      <th>count</th>\n",
       "      <th>mean</th>\n",
       "      <th>sum</th>\n",
       "      <th>count</th>\n",
       "      <th>mean</th>\n",
       "      <th>sum</th>\n",
       "      <th>count</th>\n",
       "      <th>mean</th>\n",
       "      <th>sum</th>\n",
       "      <th>count</th>\n",
       "      <th>mean</th>\n",
       "      <th>sum</th>\n",
       "      <th>count</th>\n",
       "      <th>mean</th>\n",
       "    </tr>\n",
       "    <tr>\n",
       "      <th>category</th>\n",
       "      <th></th>\n",
       "      <th></th>\n",
       "      <th></th>\n",
       "      <th></th>\n",
       "      <th></th>\n",
       "      <th></th>\n",
       "      <th></th>\n",
       "      <th></th>\n",
       "      <th></th>\n",
       "      <th></th>\n",
       "      <th></th>\n",
       "      <th></th>\n",
       "      <th></th>\n",
       "      <th></th>\n",
       "      <th></th>\n",
       "      <th></th>\n",
       "      <th></th>\n",
       "      <th></th>\n",
       "    </tr>\n",
       "  </thead>\n",
       "  <tbody>\n",
       "    <tr>\n",
       "      <td>beef</td>\n",
       "      <td>3215</td>\n",
       "      <td>391</td>\n",
       "      <td>8.222506</td>\n",
       "      <td>157.0</td>\n",
       "      <td>391</td>\n",
       "      <td>0.401535</td>\n",
       "      <td>316007</td>\n",
       "      <td>391</td>\n",
       "      <td>808.202046</td>\n",
       "      <td>3115.7</td>\n",
       "      <td>391</td>\n",
       "      <td>7.968542</td>\n",
       "      <td>262.0</td>\n",
       "      <td>391</td>\n",
       "      <td>0.670077</td>\n",
       "      <td>118.0</td>\n",
       "      <td>391</td>\n",
       "      <td>0.301790</td>\n",
       "    </tr>\n",
       "    <tr>\n",
       "      <td>chicken</td>\n",
       "      <td>5536</td>\n",
       "      <td>762</td>\n",
       "      <td>7.265092</td>\n",
       "      <td>261.0</td>\n",
       "      <td>762</td>\n",
       "      <td>0.342520</td>\n",
       "      <td>617538</td>\n",
       "      <td>762</td>\n",
       "      <td>810.417323</td>\n",
       "      <td>6013.5</td>\n",
       "      <td>762</td>\n",
       "      <td>7.891732</td>\n",
       "      <td>540.0</td>\n",
       "      <td>762</td>\n",
       "      <td>0.708661</td>\n",
       "      <td>249.0</td>\n",
       "      <td>762</td>\n",
       "      <td>0.326772</td>\n",
       "    </tr>\n",
       "    <tr>\n",
       "      <td>duck</td>\n",
       "      <td>396</td>\n",
       "      <td>53</td>\n",
       "      <td>7.471698</td>\n",
       "      <td>13.0</td>\n",
       "      <td>53</td>\n",
       "      <td>0.245283</td>\n",
       "      <td>28265</td>\n",
       "      <td>53</td>\n",
       "      <td>533.301887</td>\n",
       "      <td>422.9</td>\n",
       "      <td>53</td>\n",
       "      <td>7.979245</td>\n",
       "      <td>37.0</td>\n",
       "      <td>53</td>\n",
       "      <td>0.698113</td>\n",
       "      <td>15.0</td>\n",
       "      <td>53</td>\n",
       "      <td>0.283019</td>\n",
       "    </tr>\n",
       "    <tr>\n",
       "      <td>egg</td>\n",
       "      <td>1721</td>\n",
       "      <td>308</td>\n",
       "      <td>5.587662</td>\n",
       "      <td>109.0</td>\n",
       "      <td>308</td>\n",
       "      <td>0.353896</td>\n",
       "      <td>412061</td>\n",
       "      <td>308</td>\n",
       "      <td>1337.860390</td>\n",
       "      <td>2429.7</td>\n",
       "      <td>308</td>\n",
       "      <td>7.888636</td>\n",
       "      <td>215.0</td>\n",
       "      <td>308</td>\n",
       "      <td>0.698052</td>\n",
       "      <td>92.0</td>\n",
       "      <td>308</td>\n",
       "      <td>0.298701</td>\n",
       "    </tr>\n",
       "    <tr>\n",
       "      <td>fish</td>\n",
       "      <td>396</td>\n",
       "      <td>53</td>\n",
       "      <td>7.471698</td>\n",
       "      <td>13.0</td>\n",
       "      <td>53</td>\n",
       "      <td>0.245283</td>\n",
       "      <td>28164</td>\n",
       "      <td>53</td>\n",
       "      <td>531.396226</td>\n",
       "      <td>423.0</td>\n",
       "      <td>53</td>\n",
       "      <td>7.981132</td>\n",
       "      <td>37.0</td>\n",
       "      <td>53</td>\n",
       "      <td>0.698113</td>\n",
       "      <td>15.0</td>\n",
       "      <td>53</td>\n",
       "      <td>0.283019</td>\n",
       "    </tr>\n",
       "    <tr>\n",
       "      <td>lamb</td>\n",
       "      <td>1264</td>\n",
       "      <td>144</td>\n",
       "      <td>8.777778</td>\n",
       "      <td>50.0</td>\n",
       "      <td>144</td>\n",
       "      <td>0.347222</td>\n",
       "      <td>67024</td>\n",
       "      <td>144</td>\n",
       "      <td>465.444444</td>\n",
       "      <td>1170.5</td>\n",
       "      <td>144</td>\n",
       "      <td>8.128472</td>\n",
       "      <td>102.0</td>\n",
       "      <td>144</td>\n",
       "      <td>0.708333</td>\n",
       "      <td>36.0</td>\n",
       "      <td>144</td>\n",
       "      <td>0.250000</td>\n",
       "    </tr>\n",
       "    <tr>\n",
       "      <td>pork</td>\n",
       "      <td>6652</td>\n",
       "      <td>858</td>\n",
       "      <td>7.752914</td>\n",
       "      <td>353.0</td>\n",
       "      <td>858</td>\n",
       "      <td>0.411422</td>\n",
       "      <td>730722</td>\n",
       "      <td>858</td>\n",
       "      <td>851.657343</td>\n",
       "      <td>6849.2</td>\n",
       "      <td>858</td>\n",
       "      <td>7.982751</td>\n",
       "      <td>627.0</td>\n",
       "      <td>858</td>\n",
       "      <td>0.730769</td>\n",
       "      <td>258.0</td>\n",
       "      <td>858</td>\n",
       "      <td>0.300699</td>\n",
       "    </tr>\n",
       "    <tr>\n",
       "      <td>shrimp</td>\n",
       "      <td>2356</td>\n",
       "      <td>346</td>\n",
       "      <td>6.809249</td>\n",
       "      <td>124.0</td>\n",
       "      <td>346</td>\n",
       "      <td>0.358382</td>\n",
       "      <td>189307</td>\n",
       "      <td>346</td>\n",
       "      <td>547.130058</td>\n",
       "      <td>2752.5</td>\n",
       "      <td>346</td>\n",
       "      <td>7.955202</td>\n",
       "      <td>225.0</td>\n",
       "      <td>346</td>\n",
       "      <td>0.650289</td>\n",
       "      <td>110.0</td>\n",
       "      <td>346</td>\n",
       "      <td>0.317919</td>\n",
       "    </tr>\n",
       "    <tr>\n",
       "      <td>tofu</td>\n",
       "      <td>2194</td>\n",
       "      <td>330</td>\n",
       "      <td>6.648485</td>\n",
       "      <td>135.0</td>\n",
       "      <td>330</td>\n",
       "      <td>0.409091</td>\n",
       "      <td>351886</td>\n",
       "      <td>330</td>\n",
       "      <td>1066.321212</td>\n",
       "      <td>2556.6</td>\n",
       "      <td>330</td>\n",
       "      <td>7.747273</td>\n",
       "      <td>218.0</td>\n",
       "      <td>330</td>\n",
       "      <td>0.660606</td>\n",
       "      <td>107.0</td>\n",
       "      <td>330</td>\n",
       "      <td>0.324242</td>\n",
       "    </tr>\n",
       "  </tbody>\n",
       "</table>\n",
       "</div>"
      ],
      "text/plain": [
       "         num_ingred                 master                 num_tried        \\\n",
       "                sum count      mean    sum count      mean       sum count   \n",
       "category                                                                     \n",
       "beef           3215   391  8.222506  157.0   391  0.401535    316007   391   \n",
       "chicken        5536   762  7.265092  261.0   762  0.342520    617538   762   \n",
       "duck            396    53  7.471698   13.0    53  0.245283     28265    53   \n",
       "egg            1721   308  5.587662  109.0   308  0.353896    412061   308   \n",
       "fish            396    53  7.471698   13.0    53  0.245283     28164    53   \n",
       "lamb           1264   144  8.777778   50.0   144  0.347222     67024   144   \n",
       "pork           6652   858  7.752914  353.0   858  0.411422    730722   858   \n",
       "shrimp         2356   346  6.809249  124.0   346  0.358382    189307   346   \n",
       "tofu           2194   330  6.648485  135.0   330  0.409091    351886   330   \n",
       "\n",
       "                       rating                 picture                  \\\n",
       "                 mean     sum count      mean     sum count      mean   \n",
       "category                                                                \n",
       "beef       808.202046  3115.7   391  7.968542   262.0   391  0.670077   \n",
       "chicken    810.417323  6013.5   762  7.891732   540.0   762  0.708661   \n",
       "duck       533.301887   422.9    53  7.979245    37.0    53  0.698113   \n",
       "egg       1337.860390  2429.7   308  7.888636   215.0   308  0.698052   \n",
       "fish       531.396226   423.0    53  7.981132    37.0    53  0.698113   \n",
       "lamb       465.444444  1170.5   144  8.128472   102.0   144  0.708333   \n",
       "pork       851.657343  6849.2   858  7.982751   627.0   858  0.730769   \n",
       "shrimp     547.130058  2752.5   346  7.955202   225.0   346  0.650289   \n",
       "tofu      1066.321212  2556.6   330  7.747273   218.0   330  0.660606   \n",
       "\n",
       "         exclusive                  \n",
       "               sum count      mean  \n",
       "category                            \n",
       "beef         118.0   391  0.301790  \n",
       "chicken      249.0   762  0.326772  \n",
       "duck          15.0    53  0.283019  \n",
       "egg           92.0   308  0.298701  \n",
       "fish          15.0    53  0.283019  \n",
       "lamb          36.0   144  0.250000  \n",
       "pork         258.0   858  0.300699  \n",
       "shrimp       110.0   346  0.317919  \n",
       "tofu         107.0   330  0.324242  "
      ]
     },
     "execution_count": 63,
     "metadata": {},
     "output_type": "execute_result"
    }
   ],
   "source": [
    "categoryGroup.agg(['sum','count','mean'])"
   ]
  },
  {
   "cell_type": "markdown",
   "metadata": {},
   "source": [
    "## Study of Ingredients"
   ]
  },
  {
   "cell_type": "code",
   "execution_count": 64,
   "metadata": {},
   "outputs": [],
   "source": [
    "def df_preprocess(df):\n",
    "    df = df.drop_duplicates().dropna(axis = 0, how = 'any')\n",
    "    df = df.set_index('title')\n",
    "    df['ingredients'] = list(map(lambda s: normalize_ingredients(s.split(',')), df['ingredients']))\n",
    "    df['num_ingred'] = df['ingredients'].apply(lambda list_: len(list_))\n",
    "    df = df[['ingredients','num_ingred','author','master','num_tried','rating','picture','exclusive']]\n",
    "    return df"
   ]
  },
  {
   "cell_type": "code",
   "execution_count": 65,
   "metadata": {},
   "outputs": [],
   "source": [
    "def popular_ingredients(df):\n",
    "    list_ = []\n",
    "    for i in range(len(df)):\n",
    "        list_.extend(df['ingredients'][i])\n",
    "    dict_ = {}\n",
    "    for element in list_:\n",
    "        dict_[element] = dict_.get(element, 0) + 1\n",
    "    return dict_"
   ]
  },
  {
   "cell_type": "code",
   "execution_count": 66,
   "metadata": {},
   "outputs": [],
   "source": [
    "popular_dict = popular_ingredients(all_recipes)"
   ]
  },
  {
   "cell_type": "code",
   "execution_count": 67,
   "metadata": {},
   "outputs": [],
   "source": [
    "popular_ingred = sorted(popular_dict.items(), key=lambda kv: kv[1], reverse = True)\n",
    "popular_ingred"
   ]
  },
  {
   "cell_type": "markdown",
   "metadata": {},
   "source": [
    "### The codes below demonstrate the popularity of ingredients in each major category"
   ]
  },
  {
   "cell_type": "code",
   "execution_count": 68,
   "metadata": {},
   "outputs": [],
   "source": [
    "pork = df_preprocess(pork)\n",
    "pork_dict = popular_ingredients(pork)\n",
    "popular_pork_combo=sorted(pork_dict.items(), key=lambda kv: kv[1], reverse = True)\n",
    "popular_pork_combo"
   ]
  },
  {
   "cell_type": "code",
   "execution_count": 69,
   "metadata": {},
   "outputs": [],
   "source": [
    "chicken = df_preprocess(chicken)\n",
    "chicken_dict = popular_ingredients(chicken)\n",
    "popular_chicken_combo = sorted(chicken_dict.items(), key=lambda kv: kv[1], reverse = True)\n",
    "popular_chicken_combo"
   ]
  },
  {
   "cell_type": "code",
   "execution_count": 70,
   "metadata": {},
   "outputs": [],
   "source": [
    "beef = df_preprocess(beef)\n",
    "beef_dict = popular_ingredients(beef)\n",
    "popular_beef_combo = sorted(beef_dict.items(), key=lambda kv: kv[1], reverse = True)\n",
    "popular_beef_combo"
   ]
  },
  {
   "cell_type": "code",
   "execution_count": 71,
   "metadata": {},
   "outputs": [],
   "source": [
    "lamb = df_preprocess(lamb)\n",
    "lamb_dict = popular_ingredients(lamb)\n",
    "popular_lamb_combo = sorted(lamb_dict.items(), key=lambda kv: kv[1], reverse = True)\n",
    "popular_lamb_combo"
   ]
  },
  {
   "cell_type": "code",
   "execution_count": 72,
   "metadata": {},
   "outputs": [],
   "source": [
    "duck = df_preprocess(duck)\n",
    "duck_dict = popular_ingredients(duck)\n",
    "popular_duck_combo = sorted(duck_dict.items(), key=lambda kv: kv[1], reverse = True)\n",
    "popular_duck_combo"
   ]
  },
  {
   "cell_type": "code",
   "execution_count": 73,
   "metadata": {},
   "outputs": [],
   "source": [
    "fish = df_preprocess(fish)\n",
    "fish_dict = popular_ingredients(fish)\n",
    "popular_fish_combo = sorted(fish_dict.items(), key=lambda kv: kv[1], reverse = True)\n",
    "popular_fish_combo"
   ]
  },
  {
   "cell_type": "code",
   "execution_count": 74,
   "metadata": {},
   "outputs": [],
   "source": [
    "shrimp = df_preprocess(shrimp)\n",
    "shrimp_dict = popular_ingredients(shrimp)\n",
    "popular_shrimp_combo = sorted(shrimp_dict.items(), key=lambda kv: kv[1], reverse = True)\n",
    "popular_shrimp_combo"
   ]
  },
  {
   "cell_type": "code",
   "execution_count": 75,
   "metadata": {},
   "outputs": [],
   "source": [
    "egg = df_preprocess(egg)\n",
    "egg_dict = popular_ingredients(egg)\n",
    "popular_egg_combo = sorted(egg_dict.items(), key=lambda kv: kv[1], reverse = True)\n",
    "popular_egg_combo"
   ]
  },
  {
   "cell_type": "code",
   "execution_count": 76,
   "metadata": {},
   "outputs": [],
   "source": [
    "tofu = df_preprocess(tofu)\n",
    "tofu_dict = popular_ingredients(tofu)\n",
    "popular_tofu_combo = sorted(tofu_dict.items(), key=lambda kv: kv[1], reverse = True)\n",
    "popular_tofu_combo"
   ]
  },
  {
   "cell_type": "code",
   "execution_count": 77,
   "metadata": {},
   "outputs": [
    {
     "data": {
      "image/png": "[encoded data removed]",
      "text/plain": [
       "<Figure size 432x288 with 1 Axes>"
      ]
     },
     "metadata": {},
     "output_type": "display_data"
    }
   ],
   "source": [
    "ax = sns.boxplot(x = 'category', y = 'rating', data = all_recipes)\n",
    "ax.set(xlabel='main ingredient category', ylabel='ratings', title = 'ingredients and ratings')\n",
    "plt.show()"
   ]
  },
  {
   "cell_type": "code",
   "execution_count": 79,
   "metadata": {},
   "outputs": [
    {
     "data": {
      "image/png": "[encoded data removed]",
      "text/plain": [
       "<Figure size 432x288 with 1 Axes>"
      ]
     },
     "metadata": {},
     "output_type": "display_data"
    }
   ],
   "source": [
    "ax = sns.boxplot(x = 'category', y = 'num_tried', data = all_recipes1)\n",
    "ax.set(xlabel='main ingredient category', ylabel='number of attempts', title = 'ingredients and number of attempts')\n",
    "plt.show()"
   ]
  },
  {
   "cell_type": "code",
   "execution_count": null,
   "metadata": {},
   "outputs": [],
   "source": []
  }
 ],
 "metadata": {
  "kernelspec": {
   "display_name": "Python 3",
   "language": "python",
   "name": "python3"
  },
  "language_info": {
   "codemirror_mode": {
    "name": "ipython",
    "version": 3
   },
   "file_extension": ".py",
   "mimetype": "text/x-python",
   "name": "python",
   "nbconvert_exporter": "python",
   "pygments_lexer": "ipython3",
   "version": "3.7.4"
  }
 },
 "nbformat": 4,
 "nbformat_minor": 2
}
